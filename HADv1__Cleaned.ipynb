{
  "nbformat": 4,
  "nbformat_minor": 0,
  "metadata": {
    "colab": {
      "name": "HADv1 _Cleaned",
      "provenance": []
    },
    "kernelspec": {
      "name": "python3",
      "display_name": "Python 3"
    },
    "language_info": {
      "name": "python"
    },
    "accelerator": "GPU"
  },
  "cells": [
    {
      "cell_type": "markdown",
      "metadata": {
        "id": "5N5DRHLakjQ0"
      },
      "source": [
        "**This file is authored by Shatakshi Raman, and is used for data cleaning purposes**"
      ]
    },
    {
      "cell_type": "code",
      "metadata": {
        "colab": {
          "base_uri": "https://localhost:8080/"
        },
        "id": "A8TyDj12w7Jr",
        "outputId": "527c2d65-220e-49aa-985c-25504f66cdf6"
      },
      "source": [
        "%tensorflow_version 2.x\n",
        "import tensorflow as tf\n",
        "device_name = tf.test.gpu_device_name()\n",
        "if device_name != '/device:GPU:0':\n",
        "  raise SystemError('GPU device not found')\n",
        "print('Found GPU at: {}'.format(device_name))"
      ],
      "execution_count": null,
      "outputs": [
        {
          "output_type": "stream",
          "text": [
            "Found GPU at: /device:GPU:0\n"
          ],
          "name": "stdout"
        }
      ]
    },
    {
      "cell_type": "code",
      "metadata": {
        "id": "umQ1goxSk0xn"
      },
      "source": [
        "import re\n",
        "import pandas as pd\n",
        "from nltk.corpus import stopwords\n",
        "from wordcloud import WordCloud, STOPWORDS\n",
        "import spacy\n",
        "import seaborn as sns"
      ],
      "execution_count": null,
      "outputs": []
    },
    {
      "cell_type": "code",
      "metadata": {
        "colab": {
          "base_uri": "https://localhost:8080/",
          "height": 203
        },
        "id": "45YI4YROlRzr",
        "outputId": "b25a5c22-516c-4f67-9f48-28b2df78085f"
      },
      "source": [
        "df = pd.read_csv('/content/drive/MyDrive/Hate And aggression Detection/agr_en_train.csv')\n",
        "df.head()\n"
      ],
      "execution_count": null,
      "outputs": [
        {
          "output_type": "execute_result",
          "data": {
            "text/html": [
              "<div>\n",
              "<style scoped>\n",
              "    .dataframe tbody tr th:only-of-type {\n",
              "        vertical-align: middle;\n",
              "    }\n",
              "\n",
              "    .dataframe tbody tr th {\n",
              "        vertical-align: top;\n",
              "    }\n",
              "\n",
              "    .dataframe thead th {\n",
              "        text-align: right;\n",
              "    }\n",
              "</style>\n",
              "<table border=\"1\" class=\"dataframe\">\n",
              "  <thead>\n",
              "    <tr style=\"text-align: right;\">\n",
              "      <th></th>\n",
              "      <th>Comments</th>\n",
              "      <th>level</th>\n",
              "    </tr>\n",
              "  </thead>\n",
              "  <tbody>\n",
              "    <tr>\n",
              "      <th>0</th>\n",
              "      <td>Well said sonu..you have courage to stand agai...</td>\n",
              "      <td>2</td>\n",
              "    </tr>\n",
              "    <tr>\n",
              "      <th>1</th>\n",
              "      <td>Most of Private Banks ATM's Like HDFC, ICICI e...</td>\n",
              "      <td>0</td>\n",
              "    </tr>\n",
              "    <tr>\n",
              "      <th>2</th>\n",
              "      <td>Now question is, Pakistan will adhere to this?</td>\n",
              "      <td>2</td>\n",
              "    </tr>\n",
              "    <tr>\n",
              "      <th>3</th>\n",
              "      <td>Pakistan is comprised of fake muslims who does...</td>\n",
              "      <td>2</td>\n",
              "    </tr>\n",
              "    <tr>\n",
              "      <th>4</th>\n",
              "      <td>??we r against cow slaughter,so of course it w...</td>\n",
              "      <td>0</td>\n",
              "    </tr>\n",
              "  </tbody>\n",
              "</table>\n",
              "</div>"
            ],
            "text/plain": [
              "                                            Comments  level\n",
              "0  Well said sonu..you have courage to stand agai...      2\n",
              "1  Most of Private Banks ATM's Like HDFC, ICICI e...      0\n",
              "2     Now question is, Pakistan will adhere to this?      2\n",
              "3  Pakistan is comprised of fake muslims who does...      2\n",
              "4  ??we r against cow slaughter,so of course it w...      0"
            ]
          },
          "metadata": {
            "tags": []
          },
          "execution_count": 4
        }
      ]
    },
    {
      "cell_type": "code",
      "metadata": {
        "id": "gO8hZJGUlloB"
      },
      "source": [
        "nlp = spacy.load('en', disable=['parser', 'ner'])"
      ],
      "execution_count": null,
      "outputs": []
    },
    {
      "cell_type": "code",
      "metadata": {
        "colab": {
          "base_uri": "https://localhost:8080/",
          "height": 296
        },
        "id": "Z_xmRNLS-02W",
        "outputId": "400e2cc7-34c9-4f2a-de80-5422ff608f21"
      },
      "source": [
        "\n",
        "sns.countplot(x = 'level', data = df, palette = 'rainbow')"
      ],
      "execution_count": null,
      "outputs": [
        {
          "output_type": "execute_result",
          "data": {
            "text/plain": [
              "<matplotlib.axes._subplots.AxesSubplot at 0x7fe709f25690>"
            ]
          },
          "metadata": {
            "tags": []
          },
          "execution_count": 6
        },
        {
          "output_type": "display_data",
          "data": {
            "image/png": "[encoded data removed]",
            "text/plain": [
              "<Figure size 432x288 with 1 Axes>"
            ]
          },
          "metadata": {
            "tags": [],
            "needs_background": "light"
          }
        }
      ]
    },
    {
      "cell_type": "code",
      "metadata": {
        "id": "j_-yw3-JESnL"
      },
      "source": [
        "import pandas as pd\n",
        "import numpy as np\n",
        "import seaborn as sns\n",
        "import matplotlib.pyplot as plt\n",
        "from sklearn.feature_extraction.text import CountVectorizer\n",
        "import nltk \n",
        "import string\n",
        "import re\n",
        "%matplotlib inline\n",
        "pd.set_option('display.max_colwidth', 100)"
      ],
      "execution_count": null,
      "outputs": []
    },
    {
      "cell_type": "code",
      "metadata": {
        "colab": {
          "base_uri": "https://localhost:8080/",
          "height": 357
        },
        "id": "eeSApnWJ-8LQ",
        "outputId": "5d212207-f131-4148-a4c0-3cf1f87acd03"
      },
      "source": [
        "def remove_punct(text):\n",
        "    text  = \"\".join([char for char in text if char not in string.punctuation])\n",
        "    text = re.sub('[0-9]+', '', text)\n",
        "    return text\n",
        "\n",
        "df['Comments_punct'] = df['Comments'].apply(lambda x: remove_punct(x))\n",
        "df.head(10)"
      ],
      "execution_count": null,
      "outputs": [
        {
          "output_type": "execute_result",
          "data": {
            "text/html": [
              "<div>\n",
              "<style scoped>\n",
              "    .dataframe tbody tr th:only-of-type {\n",
              "        vertical-align: middle;\n",
              "    }\n",
              "\n",
              "    .dataframe tbody tr th {\n",
              "        vertical-align: top;\n",
              "    }\n",
              "\n",
              "    .dataframe thead th {\n",
              "        text-align: right;\n",
              "    }\n",
              "</style>\n",
              "<table border=\"1\" class=\"dataframe\">\n",
              "  <thead>\n",
              "    <tr style=\"text-align: right;\">\n",
              "      <th></th>\n",
              "      <th>Comments</th>\n",
              "      <th>level</th>\n",
              "      <th>Comments_punct</th>\n",
              "    </tr>\n",
              "  </thead>\n",
              "  <tbody>\n",
              "    <tr>\n",
              "      <th>0</th>\n",
              "      <td>Well said sonu..you have courage to stand against dadagiri of Muslims</td>\n",
              "      <td>2</td>\n",
              "      <td>Well said sonuyou have courage to stand against dadagiri of Muslims</td>\n",
              "    </tr>\n",
              "    <tr>\n",
              "      <th>1</th>\n",
              "      <td>Most of Private Banks ATM's Like HDFC, ICICI etc are out of cash. Only Public sector bank's ATM ...</td>\n",
              "      <td>0</td>\n",
              "      <td>Most of Private Banks ATMs Like HDFC ICICI etc are out of cash Only Public sector banks ATM working</td>\n",
              "    </tr>\n",
              "    <tr>\n",
              "      <th>2</th>\n",
              "      <td>Now question is, Pakistan will adhere to this?</td>\n",
              "      <td>2</td>\n",
              "      <td>Now question is Pakistan will adhere to this</td>\n",
              "    </tr>\n",
              "    <tr>\n",
              "      <th>3</th>\n",
              "      <td>Pakistan is comprised of fake muslims who does not know the meaning of unity and imposes their t...</td>\n",
              "      <td>2</td>\n",
              "      <td>Pakistan is comprised of fake muslims who does not know the meaning of unity and imposes their t...</td>\n",
              "    </tr>\n",
              "    <tr>\n",
              "      <th>4</th>\n",
              "      <td>??we r against cow slaughter,so of course it will stop leather manufacturing if it happens.</td>\n",
              "      <td>0</td>\n",
              "      <td>we r against cow slaughterso of course it will stop leather manufacturing if it happens</td>\n",
              "    </tr>\n",
              "    <tr>\n",
              "      <th>5</th>\n",
              "      <td>Wondering why Educated Ambassador is struggling to pay through Credit/Debit at a Decent Restaura...</td>\n",
              "      <td>1</td>\n",
              "      <td>Wondering why Educated Ambassador is struggling to pay through CreditDebit at a Decent Restauran...</td>\n",
              "    </tr>\n",
              "    <tr>\n",
              "      <th>6</th>\n",
              "      <td>How does inflation react to all the after shocks of this demon...?</td>\n",
              "      <td>0</td>\n",
              "      <td>How does inflation react to all the after shocks of this demon</td>\n",
              "    </tr>\n",
              "    <tr>\n",
              "      <th>7</th>\n",
              "      <td>Not good job.....this guis creating a problem n our socacity</td>\n",
              "      <td>1</td>\n",
              "      <td>Not good jobthis guis creating a problem n our socacity</td>\n",
              "    </tr>\n",
              "    <tr>\n",
              "      <th>8</th>\n",
              "      <td>This is a false news Indian media is simply misguiding there nation and creating hatred..Media s...</td>\n",
              "      <td>0</td>\n",
              "      <td>This is a false news Indian media is simply misguiding there nation and creating hatredMedia sho...</td>\n",
              "    </tr>\n",
              "    <tr>\n",
              "      <th>9</th>\n",
              "      <td>no permanent foes, no permanent friends. interest is permanent !</td>\n",
              "      <td>0</td>\n",
              "      <td>no permanent foes no permanent friends interest is permanent</td>\n",
              "    </tr>\n",
              "  </tbody>\n",
              "</table>\n",
              "</div>"
            ],
            "text/plain": [
              "                                                                                              Comments  ...                                                                                       Comments_punct\n",
              "0                                Well said sonu..you have courage to stand against dadagiri of Muslims  ...                                  Well said sonuyou have courage to stand against dadagiri of Muslims\n",
              "1  Most of Private Banks ATM's Like HDFC, ICICI etc are out of cash. Only Public sector bank's ATM ...  ...  Most of Private Banks ATMs Like HDFC ICICI etc are out of cash Only Public sector banks ATM working\n",
              "2                                                       Now question is, Pakistan will adhere to this?  ...                                                         Now question is Pakistan will adhere to this\n",
              "3  Pakistan is comprised of fake muslims who does not know the meaning of unity and imposes their t...  ...  Pakistan is comprised of fake muslims who does not know the meaning of unity and imposes their t...\n",
              "4          ??we r against cow slaughter,so of course it will stop leather manufacturing if it happens.  ...              we r against cow slaughterso of course it will stop leather manufacturing if it happens\n",
              "5  Wondering why Educated Ambassador is struggling to pay through Credit/Debit at a Decent Restaura...  ...  Wondering why Educated Ambassador is struggling to pay through CreditDebit at a Decent Restauran...\n",
              "6                                   How does inflation react to all the after shocks of this demon...?  ...                                       How does inflation react to all the after shocks of this demon\n",
              "7                                         Not good job.....this guis creating a problem n our socacity  ...                                              Not good jobthis guis creating a problem n our socacity\n",
              "8  This is a false news Indian media is simply misguiding there nation and creating hatred..Media s...  ...  This is a false news Indian media is simply misguiding there nation and creating hatredMedia sho...\n",
              "9                                     no permanent foes, no permanent friends. interest is permanent !  ...                                        no permanent foes no permanent friends interest is permanent \n",
              "\n",
              "[10 rows x 3 columns]"
            ]
          },
          "metadata": {
            "tags": []
          },
          "execution_count": 8
        }
      ]
    },
    {
      "cell_type": "code",
      "metadata": {
        "colab": {
          "base_uri": "https://localhost:8080/",
          "height": 270
        },
        "id": "DD0ZnKz0EMlu",
        "outputId": "ce824870-0612-4df0-8bfd-ea1e0e06f562"
      },
      "source": [
        "def tokenization(text):\n",
        "    text = re.split('\\W+', text)\n",
        "    return text\n",
        "\n",
        "df['Comments_tokenized'] = df['Comments_punct'].apply(lambda x: tokenization(x.lower()))\n",
        "df.head()"
      ],
      "execution_count": null,
      "outputs": [
        {
          "output_type": "execute_result",
          "data": {
            "text/html": [
              "<div>\n",
              "<style scoped>\n",
              "    .dataframe tbody tr th:only-of-type {\n",
              "        vertical-align: middle;\n",
              "    }\n",
              "\n",
              "    .dataframe tbody tr th {\n",
              "        vertical-align: top;\n",
              "    }\n",
              "\n",
              "    .dataframe thead th {\n",
              "        text-align: right;\n",
              "    }\n",
              "</style>\n",
              "<table border=\"1\" class=\"dataframe\">\n",
              "  <thead>\n",
              "    <tr style=\"text-align: right;\">\n",
              "      <th></th>\n",
              "      <th>Comments</th>\n",
              "      <th>level</th>\n",
              "      <th>Comments_punct</th>\n",
              "      <th>Comments_tokenized</th>\n",
              "    </tr>\n",
              "  </thead>\n",
              "  <tbody>\n",
              "    <tr>\n",
              "      <th>0</th>\n",
              "      <td>Well said sonu..you have courage to stand against dadagiri of Muslims</td>\n",
              "      <td>2</td>\n",
              "      <td>Well said sonuyou have courage to stand against dadagiri of Muslims</td>\n",
              "      <td>[well, said, sonuyou, have, courage, to, stand, against, dadagiri, of, muslims]</td>\n",
              "    </tr>\n",
              "    <tr>\n",
              "      <th>1</th>\n",
              "      <td>Most of Private Banks ATM's Like HDFC, ICICI etc are out of cash. Only Public sector bank's ATM ...</td>\n",
              "      <td>0</td>\n",
              "      <td>Most of Private Banks ATMs Like HDFC ICICI etc are out of cash Only Public sector banks ATM working</td>\n",
              "      <td>[most, of, private, banks, atms, like, hdfc, icici, etc, are, out, of, cash, only, public, secto...</td>\n",
              "    </tr>\n",
              "    <tr>\n",
              "      <th>2</th>\n",
              "      <td>Now question is, Pakistan will adhere to this?</td>\n",
              "      <td>2</td>\n",
              "      <td>Now question is Pakistan will adhere to this</td>\n",
              "      <td>[now, question, is, pakistan, will, adhere, to, this]</td>\n",
              "    </tr>\n",
              "    <tr>\n",
              "      <th>3</th>\n",
              "      <td>Pakistan is comprised of fake muslims who does not know the meaning of unity and imposes their t...</td>\n",
              "      <td>2</td>\n",
              "      <td>Pakistan is comprised of fake muslims who does not know the meaning of unity and imposes their t...</td>\n",
              "      <td>[pakistan, is, comprised, of, fake, muslims, who, does, not, know, the, meaning, of, unity, and,...</td>\n",
              "    </tr>\n",
              "    <tr>\n",
              "      <th>4</th>\n",
              "      <td>??we r against cow slaughter,so of course it will stop leather manufacturing if it happens.</td>\n",
              "      <td>0</td>\n",
              "      <td>we r against cow slaughterso of course it will stop leather manufacturing if it happens</td>\n",
              "      <td>[we, r, against, cow, slaughterso, of, course, it, will, stop, leather, manufacturing, if, it, h...</td>\n",
              "    </tr>\n",
              "  </tbody>\n",
              "</table>\n",
              "</div>"
            ],
            "text/plain": [
              "                                                                                              Comments  ...                                                                                   Comments_tokenized\n",
              "0                                Well said sonu..you have courage to stand against dadagiri of Muslims  ...                      [well, said, sonuyou, have, courage, to, stand, against, dadagiri, of, muslims]\n",
              "1  Most of Private Banks ATM's Like HDFC, ICICI etc are out of cash. Only Public sector bank's ATM ...  ...  [most, of, private, banks, atms, like, hdfc, icici, etc, are, out, of, cash, only, public, secto...\n",
              "2                                                       Now question is, Pakistan will adhere to this?  ...                                                [now, question, is, pakistan, will, adhere, to, this]\n",
              "3  Pakistan is comprised of fake muslims who does not know the meaning of unity and imposes their t...  ...  [pakistan, is, comprised, of, fake, muslims, who, does, not, know, the, meaning, of, unity, and,...\n",
              "4          ??we r against cow slaughter,so of course it will stop leather manufacturing if it happens.  ...  [we, r, against, cow, slaughterso, of, course, it, will, stop, leather, manufacturing, if, it, h...\n",
              "\n",
              "[5 rows x 4 columns]"
            ]
          },
          "metadata": {
            "tags": []
          },
          "execution_count": 9
        }
      ]
    },
    {
      "cell_type": "code",
      "metadata": {
        "colab": {
          "base_uri": "https://localhost:8080/"
        },
        "id": "O-xXw7VpEiN0",
        "outputId": "4272ad9b-83b5-4cee-d59e-eed5fe7358ea"
      },
      "source": [
        "nltk.download('all')\n"
      ],
      "execution_count": null,
      "outputs": [
        {
          "output_type": "stream",
          "text": [
            "[nltk_data] Downloading collection 'all'\n",
            "[nltk_data]    | \n",
            "[nltk_data]    | Downloading package abc to /root/nltk_data...\n",
            "[nltk_data]    |   Unzipping corpora/abc.zip.\n",
            "[nltk_data]    | Downloading package alpino to /root/nltk_data...\n",
            "[nltk_data]    |   Unzipping corpora/alpino.zip.\n",
            "[nltk_data]    | Downloading package biocreative_ppi to\n",
            "[nltk_data]    |     /root/nltk_data...\n",
            "[nltk_data]    |   Unzipping corpora/biocreative_ppi.zip.\n",
            "[nltk_data]    | Downloading package brown to /root/nltk_data...\n",
            "[nltk_data]    |   Unzipping corpora/brown.zip.\n",
            "[nltk_data]    | Downloading package brown_tei to /root/nltk_data...\n",
            "[nltk_data]    |   Unzipping corpora/brown_tei.zip.\n",
            "[nltk_data]    | Downloading package cess_cat to /root/nltk_data...\n",
            "[nltk_data]    |   Unzipping corpora/cess_cat.zip.\n",
            "[nltk_data]    | Downloading package cess_esp to /root/nltk_data...\n",
            "[nltk_data]    |   Unzipping corpora/cess_esp.zip.\n",
            "[nltk_data]    | Downloading package chat80 to /root/nltk_data...\n",
            "[nltk_data]    |   Unzipping corpora/chat80.zip.\n",
            "[nltk_data]    | Downloading package city_database to\n",
            "[nltk_data]    |     /root/nltk_data...\n",
            "[nltk_data]    |   Unzipping corpora/city_database.zip.\n",
            "[nltk_data]    | Downloading package cmudict to /root/nltk_data...\n",
            "[nltk_data]    |   Unzipping corpora/cmudict.zip.\n",
            "[nltk_data]    | Downloading package comparative_sentences to\n",
            "[nltk_data]    |     /root/nltk_data...\n",
            "[nltk_data]    |   Unzipping corpora/comparative_sentences.zip.\n",
            "[nltk_data]    | Downloading package comtrans to /root/nltk_data...\n",
            "[nltk_data]    | Downloading package conll2000 to /root/nltk_data...\n",
            "[nltk_data]    |   Unzipping corpora/conll2000.zip.\n",
            "[nltk_data]    | Downloading package conll2002 to /root/nltk_data...\n",
            "[nltk_data]    |   Unzipping corpora/conll2002.zip.\n",
            "[nltk_data]    | Downloading package conll2007 to /root/nltk_data...\n",
            "[nltk_data]    | Downloading package crubadan to /root/nltk_data...\n",
            "[nltk_data]    |   Unzipping corpora/crubadan.zip.\n",
            "[nltk_data]    | Downloading package dependency_treebank to\n",
            "[nltk_data]    |     /root/nltk_data...\n",
            "[nltk_data]    |   Unzipping corpora/dependency_treebank.zip.\n",
            "[nltk_data]    | Downloading package dolch to /root/nltk_data...\n",
            "[nltk_data]    |   Unzipping corpora/dolch.zip.\n",
            "[nltk_data]    | Downloading package europarl_raw to\n",
            "[nltk_data]    |     /root/nltk_data...\n",
            "[nltk_data]    |   Unzipping corpora/europarl_raw.zip.\n",
            "[nltk_data]    | Downloading package floresta to /root/nltk_data...\n",
            "[nltk_data]    |   Unzipping corpora/floresta.zip.\n",
            "[nltk_data]    | Downloading package framenet_v15 to\n",
            "[nltk_data]    |     /root/nltk_data...\n",
            "[nltk_data]    |   Unzipping corpora/framenet_v15.zip.\n",
            "[nltk_data]    | Downloading package framenet_v17 to\n",
            "[nltk_data]    |     /root/nltk_data...\n",
            "[nltk_data]    |   Unzipping corpora/framenet_v17.zip.\n",
            "[nltk_data]    | Downloading package gazetteers to /root/nltk_data...\n",
            "[nltk_data]    |   Unzipping corpora/gazetteers.zip.\n",
            "[nltk_data]    | Downloading package genesis to /root/nltk_data...\n",
            "[nltk_data]    |   Unzipping corpora/genesis.zip.\n",
            "[nltk_data]    | Downloading package gutenberg to /root/nltk_data...\n",
            "[nltk_data]    |   Unzipping corpora/gutenberg.zip.\n",
            "[nltk_data]    | Downloading package ieer to /root/nltk_data...\n",
            "[nltk_data]    |   Unzipping corpora/ieer.zip.\n",
            "[nltk_data]    | Downloading package inaugural to /root/nltk_data...\n",
            "[nltk_data]    |   Unzipping corpora/inaugural.zip.\n",
            "[nltk_data]    | Downloading package indian to /root/nltk_data...\n",
            "[nltk_data]    |   Unzipping corpora/indian.zip.\n",
            "[nltk_data]    | Downloading package jeita to /root/nltk_data...\n",
            "[nltk_data]    | Downloading package kimmo to /root/nltk_data...\n",
            "[nltk_data]    |   Unzipping corpora/kimmo.zip.\n",
            "[nltk_data]    | Downloading package knbc to /root/nltk_data...\n",
            "[nltk_data]    | Downloading package lin_thesaurus to\n",
            "[nltk_data]    |     /root/nltk_data...\n",
            "[nltk_data]    |   Unzipping corpora/lin_thesaurus.zip.\n",
            "[nltk_data]    | Downloading package mac_morpho to /root/nltk_data...\n",
            "[nltk_data]    |   Unzipping corpora/mac_morpho.zip.\n",
            "[nltk_data]    | Downloading package machado to /root/nltk_data...\n",
            "[nltk_data]    | Downloading package masc_tagged to /root/nltk_data...\n",
            "[nltk_data]    | Downloading package moses_sample to\n",
            "[nltk_data]    |     /root/nltk_data...\n",
            "[nltk_data]    |   Unzipping models/moses_sample.zip.\n",
            "[nltk_data]    | Downloading package movie_reviews to\n",
            "[nltk_data]    |     /root/nltk_data...\n",
            "[nltk_data]    |   Unzipping corpora/movie_reviews.zip.\n",
            "[nltk_data]    | Downloading package names to /root/nltk_data...\n",
            "[nltk_data]    |   Unzipping corpora/names.zip.\n",
            "[nltk_data]    | Downloading package nombank.1.0 to /root/nltk_data...\n",
            "[nltk_data]    | Downloading package nps_chat to /root/nltk_data...\n",
            "[nltk_data]    |   Unzipping corpora/nps_chat.zip.\n",
            "[nltk_data]    | Downloading package omw to /root/nltk_data...\n",
            "[nltk_data]    |   Unzipping corpora/omw.zip.\n",
            "[nltk_data]    | Downloading package opinion_lexicon to\n",
            "[nltk_data]    |     /root/nltk_data...\n",
            "[nltk_data]    |   Unzipping corpora/opinion_lexicon.zip.\n",
            "[nltk_data]    | Downloading package paradigms to /root/nltk_data...\n",
            "[nltk_data]    |   Unzipping corpora/paradigms.zip.\n",
            "[nltk_data]    | Downloading package pil to /root/nltk_data...\n",
            "[nltk_data]    |   Unzipping corpora/pil.zip.\n",
            "[nltk_data]    | Downloading package pl196x to /root/nltk_data...\n",
            "[nltk_data]    |   Unzipping corpora/pl196x.zip.\n",
            "[nltk_data]    | Downloading package ppattach to /root/nltk_data...\n",
            "[nltk_data]    |   Unzipping corpora/ppattach.zip.\n",
            "[nltk_data]    | Downloading package problem_reports to\n",
            "[nltk_data]    |     /root/nltk_data...\n",
            "[nltk_data]    |   Unzipping corpora/problem_reports.zip.\n",
            "[nltk_data]    | Downloading package propbank to /root/nltk_data...\n",
            "[nltk_data]    | Downloading package ptb to /root/nltk_data...\n",
            "[nltk_data]    |   Unzipping corpora/ptb.zip.\n",
            "[nltk_data]    | Downloading package product_reviews_1 to\n",
            "[nltk_data]    |     /root/nltk_data...\n",
            "[nltk_data]    |   Unzipping corpora/product_reviews_1.zip.\n",
            "[nltk_data]    | Downloading package product_reviews_2 to\n",
            "[nltk_data]    |     /root/nltk_data...\n",
            "[nltk_data]    |   Unzipping corpora/product_reviews_2.zip.\n",
            "[nltk_data]    | Downloading package pros_cons to /root/nltk_data...\n",
            "[nltk_data]    |   Unzipping corpora/pros_cons.zip.\n",
            "[nltk_data]    | Downloading package qc to /root/nltk_data...\n",
            "[nltk_data]    |   Unzipping corpora/qc.zip.\n",
            "[nltk_data]    | Downloading package reuters to /root/nltk_data...\n",
            "[nltk_data]    | Downloading package rte to /root/nltk_data...\n",
            "[nltk_data]    |   Unzipping corpora/rte.zip.\n",
            "[nltk_data]    | Downloading package semcor to /root/nltk_data...\n",
            "[nltk_data]    | Downloading package senseval to /root/nltk_data...\n",
            "[nltk_data]    |   Unzipping corpora/senseval.zip.\n",
            "[nltk_data]    | Downloading package sentiwordnet to\n",
            "[nltk_data]    |     /root/nltk_data...\n",
            "[nltk_data]    |   Unzipping corpora/sentiwordnet.zip.\n",
            "[nltk_data]    | Downloading package sentence_polarity to\n",
            "[nltk_data]    |     /root/nltk_data...\n",
            "[nltk_data]    |   Unzipping corpora/sentence_polarity.zip.\n",
            "[nltk_data]    | Downloading package shakespeare to /root/nltk_data...\n",
            "[nltk_data]    |   Unzipping corpora/shakespeare.zip.\n",
            "[nltk_data]    | Downloading package sinica_treebank to\n",
            "[nltk_data]    |     /root/nltk_data...\n",
            "[nltk_data]    |   Unzipping corpora/sinica_treebank.zip.\n",
            "[nltk_data]    | Downloading package smultron to /root/nltk_data...\n",
            "[nltk_data]    |   Unzipping corpora/smultron.zip.\n",
            "[nltk_data]    | Downloading package state_union to /root/nltk_data...\n",
            "[nltk_data]    |   Unzipping corpora/state_union.zip.\n",
            "[nltk_data]    | Downloading package stopwords to /root/nltk_data...\n",
            "[nltk_data]    |   Package stopwords is already up-to-date!\n",
            "[nltk_data]    | Downloading package subjectivity to\n",
            "[nltk_data]    |     /root/nltk_data...\n",
            "[nltk_data]    |   Unzipping corpora/subjectivity.zip.\n",
            "[nltk_data]    | Downloading package swadesh to /root/nltk_data...\n",
            "[nltk_data]    |   Unzipping corpora/swadesh.zip.\n",
            "[nltk_data]    | Downloading package switchboard to /root/nltk_data...\n",
            "[nltk_data]    |   Unzipping corpora/switchboard.zip.\n",
            "[nltk_data]    | Downloading package timit to /root/nltk_data...\n",
            "[nltk_data]    |   Unzipping corpora/timit.zip.\n",
            "[nltk_data]    | Downloading package toolbox to /root/nltk_data...\n",
            "[nltk_data]    |   Unzipping corpora/toolbox.zip.\n",
            "[nltk_data]    | Downloading package treebank to /root/nltk_data...\n",
            "[nltk_data]    |   Unzipping corpora/treebank.zip.\n",
            "[nltk_data]    | Downloading package twitter_samples to\n",
            "[nltk_data]    |     /root/nltk_data...\n",
            "[nltk_data]    |   Unzipping corpora/twitter_samples.zip.\n",
            "[nltk_data]    | Downloading package udhr to /root/nltk_data...\n",
            "[nltk_data]    |   Unzipping corpora/udhr.zip.\n",
            "[nltk_data]    | Downloading package udhr2 to /root/nltk_data...\n",
            "[nltk_data]    |   Unzipping corpora/udhr2.zip.\n",
            "[nltk_data]    | Downloading package unicode_samples to\n",
            "[nltk_data]    |     /root/nltk_data...\n",
            "[nltk_data]    |   Unzipping corpora/unicode_samples.zip.\n",
            "[nltk_data]    | Downloading package universal_treebanks_v20 to\n",
            "[nltk_data]    |     /root/nltk_data...\n",
            "[nltk_data]    | Downloading package verbnet to /root/nltk_data...\n",
            "[nltk_data]    |   Unzipping corpora/verbnet.zip.\n",
            "[nltk_data]    | Downloading package verbnet3 to /root/nltk_data...\n",
            "[nltk_data]    |   Unzipping corpora/verbnet3.zip.\n",
            "[nltk_data]    | Downloading package webtext to /root/nltk_data...\n",
            "[nltk_data]    |   Unzipping corpora/webtext.zip.\n",
            "[nltk_data]    | Downloading package wordnet to /root/nltk_data...\n",
            "[nltk_data]    |   Unzipping corpora/wordnet.zip.\n",
            "[nltk_data]    | Downloading package wordnet_ic to /root/nltk_data...\n",
            "[nltk_data]    |   Unzipping corpora/wordnet_ic.zip.\n",
            "[nltk_data]    | Downloading package words to /root/nltk_data...\n",
            "[nltk_data]    |   Unzipping corpora/words.zip.\n",
            "[nltk_data]    | Downloading package ycoe to /root/nltk_data...\n",
            "[nltk_data]    |   Unzipping corpora/ycoe.zip.\n",
            "[nltk_data]    | Downloading package rslp to /root/nltk_data...\n",
            "[nltk_data]    |   Unzipping stemmers/rslp.zip.\n",
            "[nltk_data]    | Downloading package maxent_treebank_pos_tagger to\n",
            "[nltk_data]    |     /root/nltk_data...\n",
            "[nltk_data]    |   Unzipping taggers/maxent_treebank_pos_tagger.zip.\n",
            "[nltk_data]    | Downloading package universal_tagset to\n",
            "[nltk_data]    |     /root/nltk_data...\n",
            "[nltk_data]    |   Unzipping taggers/universal_tagset.zip.\n",
            "[nltk_data]    | Downloading package maxent_ne_chunker to\n",
            "[nltk_data]    |     /root/nltk_data...\n",
            "[nltk_data]    |   Unzipping chunkers/maxent_ne_chunker.zip.\n",
            "[nltk_data]    | Downloading package punkt to /root/nltk_data...\n",
            "[nltk_data]    |   Package punkt is already up-to-date!\n",
            "[nltk_data]    | Downloading package book_grammars to\n",
            "[nltk_data]    |     /root/nltk_data...\n",
            "[nltk_data]    |   Unzipping grammars/book_grammars.zip.\n",
            "[nltk_data]    | Downloading package sample_grammars to\n",
            "[nltk_data]    |     /root/nltk_data...\n",
            "[nltk_data]    |   Unzipping grammars/sample_grammars.zip.\n",
            "[nltk_data]    | Downloading package spanish_grammars to\n",
            "[nltk_data]    |     /root/nltk_data...\n",
            "[nltk_data]    |   Unzipping grammars/spanish_grammars.zip.\n",
            "[nltk_data]    | Downloading package basque_grammars to\n",
            "[nltk_data]    |     /root/nltk_data...\n",
            "[nltk_data]    |   Unzipping grammars/basque_grammars.zip.\n",
            "[nltk_data]    | Downloading package large_grammars to\n",
            "[nltk_data]    |     /root/nltk_data...\n",
            "[nltk_data]    |   Unzipping grammars/large_grammars.zip.\n",
            "[nltk_data]    | Downloading package tagsets to /root/nltk_data...\n",
            "[nltk_data]    |   Unzipping help/tagsets.zip.\n",
            "[nltk_data]    | Downloading package snowball_data to\n",
            "[nltk_data]    |     /root/nltk_data...\n",
            "[nltk_data]    | Downloading package bllip_wsj_no_aux to\n",
            "[nltk_data]    |     /root/nltk_data...\n",
            "[nltk_data]    |   Unzipping models/bllip_wsj_no_aux.zip.\n",
            "[nltk_data]    | Downloading package word2vec_sample to\n",
            "[nltk_data]    |     /root/nltk_data...\n",
            "[nltk_data]    |   Unzipping models/word2vec_sample.zip.\n",
            "[nltk_data]    | Downloading package panlex_swadesh to\n",
            "[nltk_data]    |     /root/nltk_data...\n",
            "[nltk_data]    | Downloading package mte_teip5 to /root/nltk_data...\n",
            "[nltk_data]    |   Unzipping corpora/mte_teip5.zip.\n",
            "[nltk_data]    | Downloading package averaged_perceptron_tagger to\n",
            "[nltk_data]    |     /root/nltk_data...\n",
            "[nltk_data]    |   Unzipping taggers/averaged_perceptron_tagger.zip.\n",
            "[nltk_data]    | Downloading package averaged_perceptron_tagger_ru to\n",
            "[nltk_data]    |     /root/nltk_data...\n",
            "[nltk_data]    |   Unzipping\n",
            "[nltk_data]    |       taggers/averaged_perceptron_tagger_ru.zip.\n",
            "[nltk_data]    | Downloading package perluniprops to\n",
            "[nltk_data]    |     /root/nltk_data...\n",
            "[nltk_data]    |   Unzipping misc/perluniprops.zip.\n",
            "[nltk_data]    | Downloading package nonbreaking_prefixes to\n",
            "[nltk_data]    |     /root/nltk_data...\n",
            "[nltk_data]    |   Unzipping corpora/nonbreaking_prefixes.zip.\n",
            "[nltk_data]    | Downloading package vader_lexicon to\n",
            "[nltk_data]    |     /root/nltk_data...\n",
            "[nltk_data]    | Downloading package porter_test to /root/nltk_data...\n",
            "[nltk_data]    |   Unzipping stemmers/porter_test.zip.\n",
            "[nltk_data]    | Downloading package wmt15_eval to /root/nltk_data...\n",
            "[nltk_data]    |   Unzipping models/wmt15_eval.zip.\n",
            "[nltk_data]    | Downloading package mwa_ppdb to /root/nltk_data...\n",
            "[nltk_data]    |   Unzipping misc/mwa_ppdb.zip.\n",
            "[nltk_data]    | \n",
            "[nltk_data]  Done downloading collection all\n"
          ],
          "name": "stdout"
        },
        {
          "output_type": "execute_result",
          "data": {
            "text/plain": [
              "True"
            ]
          },
          "metadata": {
            "tags": []
          },
          "execution_count": 10
        }
      ]
    },
    {
      "cell_type": "code",
      "metadata": {
        "id": "2WuUlullEnay"
      },
      "source": [
        "stopword = nltk.corpus.stopwords.words('english')"
      ],
      "execution_count": null,
      "outputs": []
    },
    {
      "cell_type": "code",
      "metadata": {
        "colab": {
          "base_uri": "https://localhost:8080/",
          "height": 575
        },
        "id": "XcdhFuGTFAZw",
        "outputId": "9df46446-ecdd-46de-cb1c-53fced5810e7"
      },
      "source": [
        "def remove_stopwords(text):\n",
        "    text = [word for word in text if word not in stopword]\n",
        "    return text\n",
        "    \n",
        "df['Comments_nonstop'] = df['Comments_tokenized'].apply(lambda x: remove_stopwords(x))\n",
        "df.head(10)"
      ],
      "execution_count": null,
      "outputs": [
        {
          "output_type": "execute_result",
          "data": {
            "text/html": [
              "<div>\n",
              "<style scoped>\n",
              "    .dataframe tbody tr th:only-of-type {\n",
              "        vertical-align: middle;\n",
              "    }\n",
              "\n",
              "    .dataframe tbody tr th {\n",
              "        vertical-align: top;\n",
              "    }\n",
              "\n",
              "    .dataframe thead th {\n",
              "        text-align: right;\n",
              "    }\n",
              "</style>\n",
              "<table border=\"1\" class=\"dataframe\">\n",
              "  <thead>\n",
              "    <tr style=\"text-align: right;\">\n",
              "      <th></th>\n",
              "      <th>Comments</th>\n",
              "      <th>level</th>\n",
              "      <th>Comments_punct</th>\n",
              "      <th>Comments_tokenized</th>\n",
              "      <th>Comments_nonstop</th>\n",
              "    </tr>\n",
              "  </thead>\n",
              "  <tbody>\n",
              "    <tr>\n",
              "      <th>0</th>\n",
              "      <td>Well said sonu..you have courage to stand against dadagiri of Muslims</td>\n",
              "      <td>2</td>\n",
              "      <td>Well said sonuyou have courage to stand against dadagiri of Muslims</td>\n",
              "      <td>[well, said, sonuyou, have, courage, to, stand, against, dadagiri, of, muslims]</td>\n",
              "      <td>[well, said, sonuyou, courage, stand, dadagiri, muslims]</td>\n",
              "    </tr>\n",
              "    <tr>\n",
              "      <th>1</th>\n",
              "      <td>Most of Private Banks ATM's Like HDFC, ICICI etc are out of cash. Only Public sector bank's ATM ...</td>\n",
              "      <td>0</td>\n",
              "      <td>Most of Private Banks ATMs Like HDFC ICICI etc are out of cash Only Public sector banks ATM working</td>\n",
              "      <td>[most, of, private, banks, atms, like, hdfc, icici, etc, are, out, of, cash, only, public, secto...</td>\n",
              "      <td>[private, banks, atms, like, hdfc, icici, etc, cash, public, sector, banks, atm, working]</td>\n",
              "    </tr>\n",
              "    <tr>\n",
              "      <th>2</th>\n",
              "      <td>Now question is, Pakistan will adhere to this?</td>\n",
              "      <td>2</td>\n",
              "      <td>Now question is Pakistan will adhere to this</td>\n",
              "      <td>[now, question, is, pakistan, will, adhere, to, this]</td>\n",
              "      <td>[question, pakistan, adhere]</td>\n",
              "    </tr>\n",
              "    <tr>\n",
              "      <th>3</th>\n",
              "      <td>Pakistan is comprised of fake muslims who does not know the meaning of unity and imposes their t...</td>\n",
              "      <td>2</td>\n",
              "      <td>Pakistan is comprised of fake muslims who does not know the meaning of unity and imposes their t...</td>\n",
              "      <td>[pakistan, is, comprised, of, fake, muslims, who, does, not, know, the, meaning, of, unity, and,...</td>\n",
              "      <td>[pakistan, comprised, fake, muslims, know, meaning, unity, imposes, thoughts, othersall, rascals...</td>\n",
              "    </tr>\n",
              "    <tr>\n",
              "      <th>4</th>\n",
              "      <td>??we r against cow slaughter,so of course it will stop leather manufacturing if it happens.</td>\n",
              "      <td>0</td>\n",
              "      <td>we r against cow slaughterso of course it will stop leather manufacturing if it happens</td>\n",
              "      <td>[we, r, against, cow, slaughterso, of, course, it, will, stop, leather, manufacturing, if, it, h...</td>\n",
              "      <td>[r, cow, slaughterso, course, stop, leather, manufacturing, happens]</td>\n",
              "    </tr>\n",
              "    <tr>\n",
              "      <th>5</th>\n",
              "      <td>Wondering why Educated Ambassador is struggling to pay through Credit/Debit at a Decent Restaura...</td>\n",
              "      <td>1</td>\n",
              "      <td>Wondering why Educated Ambassador is struggling to pay through CreditDebit at a Decent Restauran...</td>\n",
              "      <td>[wondering, why, educated, ambassador, is, struggling, to, pay, through, creditdebit, at, a, dec...</td>\n",
              "      <td>[wondering, educated, ambassador, struggling, pay, creditdebit, decent, restaurant, cant, imagin...</td>\n",
              "    </tr>\n",
              "    <tr>\n",
              "      <th>6</th>\n",
              "      <td>How does inflation react to all the after shocks of this demon...?</td>\n",
              "      <td>0</td>\n",
              "      <td>How does inflation react to all the after shocks of this demon</td>\n",
              "      <td>[how, does, inflation, react, to, all, the, after, shocks, of, this, demon]</td>\n",
              "      <td>[inflation, react, shocks, demon]</td>\n",
              "    </tr>\n",
              "    <tr>\n",
              "      <th>7</th>\n",
              "      <td>Not good job.....this guis creating a problem n our socacity</td>\n",
              "      <td>1</td>\n",
              "      <td>Not good jobthis guis creating a problem n our socacity</td>\n",
              "      <td>[not, good, jobthis, guis, creating, a, problem, n, our, socacity]</td>\n",
              "      <td>[good, jobthis, guis, creating, problem, n, socacity]</td>\n",
              "    </tr>\n",
              "    <tr>\n",
              "      <th>8</th>\n",
              "      <td>This is a false news Indian media is simply misguiding there nation and creating hatred..Media s...</td>\n",
              "      <td>0</td>\n",
              "      <td>This is a false news Indian media is simply misguiding there nation and creating hatredMedia sho...</td>\n",
              "      <td>[this, is, a, false, news, indian, media, is, simply, misguiding, there, nation, and, creating, ...</td>\n",
              "      <td>[false, news, indian, media, simply, misguiding, nation, creating, hatredmedia, v, careful, spre...</td>\n",
              "    </tr>\n",
              "    <tr>\n",
              "      <th>9</th>\n",
              "      <td>no permanent foes, no permanent friends. interest is permanent !</td>\n",
              "      <td>0</td>\n",
              "      <td>no permanent foes no permanent friends interest is permanent</td>\n",
              "      <td>[no, permanent, foes, no, permanent, friends, interest, is, permanent, ]</td>\n",
              "      <td>[permanent, foes, permanent, friends, interest, permanent, ]</td>\n",
              "    </tr>\n",
              "  </tbody>\n",
              "</table>\n",
              "</div>"
            ],
            "text/plain": [
              "                                                                                              Comments  ...                                                                                     Comments_nonstop\n",
              "0                                Well said sonu..you have courage to stand against dadagiri of Muslims  ...                                             [well, said, sonuyou, courage, stand, dadagiri, muslims]\n",
              "1  Most of Private Banks ATM's Like HDFC, ICICI etc are out of cash. Only Public sector bank's ATM ...  ...            [private, banks, atms, like, hdfc, icici, etc, cash, public, sector, banks, atm, working]\n",
              "2                                                       Now question is, Pakistan will adhere to this?  ...                                                                         [question, pakistan, adhere]\n",
              "3  Pakistan is comprised of fake muslims who does not know the meaning of unity and imposes their t...  ...  [pakistan, comprised, fake, muslims, know, meaning, unity, imposes, thoughts, othersall, rascals...\n",
              "4          ??we r against cow slaughter,so of course it will stop leather manufacturing if it happens.  ...                                 [r, cow, slaughterso, course, stop, leather, manufacturing, happens]\n",
              "5  Wondering why Educated Ambassador is struggling to pay through Credit/Debit at a Decent Restaura...  ...  [wondering, educated, ambassador, struggling, pay, creditdebit, decent, restaurant, cant, imagin...\n",
              "6                                   How does inflation react to all the after shocks of this demon...?  ...                                                                    [inflation, react, shocks, demon]\n",
              "7                                         Not good job.....this guis creating a problem n our socacity  ...                                                [good, jobthis, guis, creating, problem, n, socacity]\n",
              "8  This is a false news Indian media is simply misguiding there nation and creating hatred..Media s...  ...  [false, news, indian, media, simply, misguiding, nation, creating, hatredmedia, v, careful, spre...\n",
              "9                                     no permanent foes, no permanent friends. interest is permanent !  ...                                         [permanent, foes, permanent, friends, interest, permanent, ]\n",
              "\n",
              "[10 rows x 5 columns]"
            ]
          },
          "metadata": {
            "tags": []
          },
          "execution_count": 12
        }
      ]
    },
    {
      "cell_type": "code",
      "metadata": {
        "colab": {
          "base_uri": "https://localhost:8080/",
          "height": 338
        },
        "id": "Lc6dU94yFI2J",
        "outputId": "3291ddd3-6f65-498a-de56-f7b9a1518f33"
      },
      "source": [
        "ps = nltk.PorterStemmer()\n",
        "\n",
        "def stemming(text):\n",
        "    text = [ps.stem(word) for word in text]\n",
        "    return text\n",
        "\n",
        "df['Comments_stemmed'] = df['Comments_nonstop'].apply(lambda x: stemming(x))\n",
        "df.head()"
      ],
      "execution_count": null,
      "outputs": [
        {
          "output_type": "execute_result",
          "data": {
            "text/html": [
              "<div>\n",
              "<style scoped>\n",
              "    .dataframe tbody tr th:only-of-type {\n",
              "        vertical-align: middle;\n",
              "    }\n",
              "\n",
              "    .dataframe tbody tr th {\n",
              "        vertical-align: top;\n",
              "    }\n",
              "\n",
              "    .dataframe thead th {\n",
              "        text-align: right;\n",
              "    }\n",
              "</style>\n",
              "<table border=\"1\" class=\"dataframe\">\n",
              "  <thead>\n",
              "    <tr style=\"text-align: right;\">\n",
              "      <th></th>\n",
              "      <th>Comments</th>\n",
              "      <th>level</th>\n",
              "      <th>Comments_punct</th>\n",
              "      <th>Comments_tokenized</th>\n",
              "      <th>Comments_nonstop</th>\n",
              "      <th>Comments_stemmed</th>\n",
              "    </tr>\n",
              "  </thead>\n",
              "  <tbody>\n",
              "    <tr>\n",
              "      <th>0</th>\n",
              "      <td>Well said sonu..you have courage to stand against dadagiri of Muslims</td>\n",
              "      <td>2</td>\n",
              "      <td>Well said sonuyou have courage to stand against dadagiri of Muslims</td>\n",
              "      <td>[well, said, sonuyou, have, courage, to, stand, against, dadagiri, of, muslims]</td>\n",
              "      <td>[well, said, sonuyou, courage, stand, dadagiri, muslims]</td>\n",
              "      <td>[well, said, sonuy, courag, stand, dadagiri, muslim]</td>\n",
              "    </tr>\n",
              "    <tr>\n",
              "      <th>1</th>\n",
              "      <td>Most of Private Banks ATM's Like HDFC, ICICI etc are out of cash. Only Public sector bank's ATM ...</td>\n",
              "      <td>0</td>\n",
              "      <td>Most of Private Banks ATMs Like HDFC ICICI etc are out of cash Only Public sector banks ATM working</td>\n",
              "      <td>[most, of, private, banks, atms, like, hdfc, icici, etc, are, out, of, cash, only, public, secto...</td>\n",
              "      <td>[private, banks, atms, like, hdfc, icici, etc, cash, public, sector, banks, atm, working]</td>\n",
              "      <td>[privat, bank, atm, like, hdfc, icici, etc, cash, public, sector, bank, atm, work]</td>\n",
              "    </tr>\n",
              "    <tr>\n",
              "      <th>2</th>\n",
              "      <td>Now question is, Pakistan will adhere to this?</td>\n",
              "      <td>2</td>\n",
              "      <td>Now question is Pakistan will adhere to this</td>\n",
              "      <td>[now, question, is, pakistan, will, adhere, to, this]</td>\n",
              "      <td>[question, pakistan, adhere]</td>\n",
              "      <td>[question, pakistan, adher]</td>\n",
              "    </tr>\n",
              "    <tr>\n",
              "      <th>3</th>\n",
              "      <td>Pakistan is comprised of fake muslims who does not know the meaning of unity and imposes their t...</td>\n",
              "      <td>2</td>\n",
              "      <td>Pakistan is comprised of fake muslims who does not know the meaning of unity and imposes their t...</td>\n",
              "      <td>[pakistan, is, comprised, of, fake, muslims, who, does, not, know, the, meaning, of, unity, and,...</td>\n",
              "      <td>[pakistan, comprised, fake, muslims, know, meaning, unity, imposes, thoughts, othersall, rascals...</td>\n",
              "      <td>[pakistan, compris, fake, muslim, know, mean, uniti, impos, thought, othersal, rascal, gather]</td>\n",
              "    </tr>\n",
              "    <tr>\n",
              "      <th>4</th>\n",
              "      <td>??we r against cow slaughter,so of course it will stop leather manufacturing if it happens.</td>\n",
              "      <td>0</td>\n",
              "      <td>we r against cow slaughterso of course it will stop leather manufacturing if it happens</td>\n",
              "      <td>[we, r, against, cow, slaughterso, of, course, it, will, stop, leather, manufacturing, if, it, h...</td>\n",
              "      <td>[r, cow, slaughterso, course, stop, leather, manufacturing, happens]</td>\n",
              "      <td>[r, cow, slaughterso, cours, stop, leather, manufactur, happen]</td>\n",
              "    </tr>\n",
              "  </tbody>\n",
              "</table>\n",
              "</div>"
            ],
            "text/plain": [
              "                                                                                              Comments  ...                                                                                Comments_stemmed\n",
              "0                                Well said sonu..you have courage to stand against dadagiri of Muslims  ...                                            [well, said, sonuy, courag, stand, dadagiri, muslim]\n",
              "1  Most of Private Banks ATM's Like HDFC, ICICI etc are out of cash. Only Public sector bank's ATM ...  ...              [privat, bank, atm, like, hdfc, icici, etc, cash, public, sector, bank, atm, work]\n",
              "2                                                       Now question is, Pakistan will adhere to this?  ...                                                                     [question, pakistan, adher]\n",
              "3  Pakistan is comprised of fake muslims who does not know the meaning of unity and imposes their t...  ...  [pakistan, compris, fake, muslim, know, mean, uniti, impos, thought, othersal, rascal, gather]\n",
              "4          ??we r against cow slaughter,so of course it will stop leather manufacturing if it happens.  ...                                 [r, cow, slaughterso, cours, stop, leather, manufactur, happen]\n",
              "\n",
              "[5 rows x 6 columns]"
            ]
          },
          "metadata": {
            "tags": []
          },
          "execution_count": 13
        }
      ]
    },
    {
      "cell_type": "code",
      "metadata": {
        "colab": {
          "base_uri": "https://localhost:8080/",
          "height": 405
        },
        "id": "-hb6w81vFVds",
        "outputId": "8e2e927b-6064-44cf-cae6-a219a048fe3c"
      },
      "source": [
        "wn = nltk.WordNetLemmatizer()\n",
        "\n",
        "def lemmatizer(text):\n",
        "    text = [wn.lemmatize(word) for word in text]\n",
        "    return text\n",
        "\n",
        "df['cleaned'] = df['Comments_nonstop'].apply(lambda x: lemmatizer(x))\n",
        "df.head()"
      ],
      "execution_count": null,
      "outputs": [
        {
          "output_type": "execute_result",
          "data": {
            "text/html": [
              "<div>\n",
              "<style scoped>\n",
              "    .dataframe tbody tr th:only-of-type {\n",
              "        vertical-align: middle;\n",
              "    }\n",
              "\n",
              "    .dataframe tbody tr th {\n",
              "        vertical-align: top;\n",
              "    }\n",
              "\n",
              "    .dataframe thead th {\n",
              "        text-align: right;\n",
              "    }\n",
              "</style>\n",
              "<table border=\"1\" class=\"dataframe\">\n",
              "  <thead>\n",
              "    <tr style=\"text-align: right;\">\n",
              "      <th></th>\n",
              "      <th>Comments</th>\n",
              "      <th>level</th>\n",
              "      <th>Comments_punct</th>\n",
              "      <th>Comments_tokenized</th>\n",
              "      <th>Comments_nonstop</th>\n",
              "      <th>Comments_stemmed</th>\n",
              "      <th>cleaned</th>\n",
              "    </tr>\n",
              "  </thead>\n",
              "  <tbody>\n",
              "    <tr>\n",
              "      <th>0</th>\n",
              "      <td>Well said sonu..you have courage to stand against dadagiri of Muslims</td>\n",
              "      <td>2</td>\n",
              "      <td>Well said sonuyou have courage to stand against dadagiri of Muslims</td>\n",
              "      <td>[well, said, sonuyou, have, courage, to, stand, against, dadagiri, of, muslims]</td>\n",
              "      <td>[well, said, sonuyou, courage, stand, dadagiri, muslims]</td>\n",
              "      <td>[well, said, sonuy, courag, stand, dadagiri, muslim]</td>\n",
              "      <td>[well, said, sonuyou, courage, stand, dadagiri, muslim]</td>\n",
              "    </tr>\n",
              "    <tr>\n",
              "      <th>1</th>\n",
              "      <td>Most of Private Banks ATM's Like HDFC, ICICI etc are out of cash. Only Public sector bank's ATM ...</td>\n",
              "      <td>0</td>\n",
              "      <td>Most of Private Banks ATMs Like HDFC ICICI etc are out of cash Only Public sector banks ATM working</td>\n",
              "      <td>[most, of, private, banks, atms, like, hdfc, icici, etc, are, out, of, cash, only, public, secto...</td>\n",
              "      <td>[private, banks, atms, like, hdfc, icici, etc, cash, public, sector, banks, atm, working]</td>\n",
              "      <td>[privat, bank, atm, like, hdfc, icici, etc, cash, public, sector, bank, atm, work]</td>\n",
              "      <td>[private, bank, atm, like, hdfc, icici, etc, cash, public, sector, bank, atm, working]</td>\n",
              "    </tr>\n",
              "    <tr>\n",
              "      <th>2</th>\n",
              "      <td>Now question is, Pakistan will adhere to this?</td>\n",
              "      <td>2</td>\n",
              "      <td>Now question is Pakistan will adhere to this</td>\n",
              "      <td>[now, question, is, pakistan, will, adhere, to, this]</td>\n",
              "      <td>[question, pakistan, adhere]</td>\n",
              "      <td>[question, pakistan, adher]</td>\n",
              "      <td>[question, pakistan, adhere]</td>\n",
              "    </tr>\n",
              "    <tr>\n",
              "      <th>3</th>\n",
              "      <td>Pakistan is comprised of fake muslims who does not know the meaning of unity and imposes their t...</td>\n",
              "      <td>2</td>\n",
              "      <td>Pakistan is comprised of fake muslims who does not know the meaning of unity and imposes their t...</td>\n",
              "      <td>[pakistan, is, comprised, of, fake, muslims, who, does, not, know, the, meaning, of, unity, and,...</td>\n",
              "      <td>[pakistan, comprised, fake, muslims, know, meaning, unity, imposes, thoughts, othersall, rascals...</td>\n",
              "      <td>[pakistan, compris, fake, muslim, know, mean, uniti, impos, thought, othersal, rascal, gather]</td>\n",
              "      <td>[pakistan, comprised, fake, muslim, know, meaning, unity, imposes, thought, othersall, rascal, g...</td>\n",
              "    </tr>\n",
              "    <tr>\n",
              "      <th>4</th>\n",
              "      <td>??we r against cow slaughter,so of course it will stop leather manufacturing if it happens.</td>\n",
              "      <td>0</td>\n",
              "      <td>we r against cow slaughterso of course it will stop leather manufacturing if it happens</td>\n",
              "      <td>[we, r, against, cow, slaughterso, of, course, it, will, stop, leather, manufacturing, if, it, h...</td>\n",
              "      <td>[r, cow, slaughterso, course, stop, leather, manufacturing, happens]</td>\n",
              "      <td>[r, cow, slaughterso, cours, stop, leather, manufactur, happen]</td>\n",
              "      <td>[r, cow, slaughterso, course, stop, leather, manufacturing, happens]</td>\n",
              "    </tr>\n",
              "  </tbody>\n",
              "</table>\n",
              "</div>"
            ],
            "text/plain": [
              "                                                                                              Comments  ...                                                                                              cleaned\n",
              "0                                Well said sonu..you have courage to stand against dadagiri of Muslims  ...                                              [well, said, sonuyou, courage, stand, dadagiri, muslim]\n",
              "1  Most of Private Banks ATM's Like HDFC, ICICI etc are out of cash. Only Public sector bank's ATM ...  ...               [private, bank, atm, like, hdfc, icici, etc, cash, public, sector, bank, atm, working]\n",
              "2                                                       Now question is, Pakistan will adhere to this?  ...                                                                         [question, pakistan, adhere]\n",
              "3  Pakistan is comprised of fake muslims who does not know the meaning of unity and imposes their t...  ...  [pakistan, comprised, fake, muslim, know, meaning, unity, imposes, thought, othersall, rascal, g...\n",
              "4          ??we r against cow slaughter,so of course it will stop leather manufacturing if it happens.  ...                                 [r, cow, slaughterso, course, stop, leather, manufacturing, happens]\n",
              "\n",
              "[5 rows x 7 columns]"
            ]
          },
          "metadata": {
            "tags": []
          },
          "execution_count": 14
        }
      ]
    },
    {
      "cell_type": "code",
      "metadata": {
        "id": "tpbpiYIcFb_s"
      },
      "source": [
        "def clean_text(text):\n",
        "    text_lc = \"\".join([word.lower() for word in text if word not in string.punctuation]) # remove puntuation\n",
        "    text_rc = re.sub('[0-9]+', '', text_lc)\n",
        "    tokens = re.split('\\W+', text_rc)    # tokenization\n",
        "    text = [ps.stem(word) for word in tokens if word not in stopword]  # remove stopwords and stemming\n",
        "    return text"
      ],
      "execution_count": null,
      "outputs": []
    },
    {
      "cell_type": "code",
      "metadata": {
        "colab": {
          "base_uri": "https://localhost:8080/"
        },
        "id": "HYO4VEnAFiLR",
        "outputId": "487414b2-3577-41fb-82b9-d3fb1c8d910b"
      },
      "source": [
        "countVectorizer = CountVectorizer(analyzer=clean_text) \n",
        "countVector = countVectorizer.fit_transform(df['Comments'])\n",
        "print('{} Number of Comments has {} words'.format(countVector.shape[0], countVector.shape[1]))\n",
        "#print(countVectorizer.get_feature_names())"
      ],
      "execution_count": null,
      "outputs": [
        {
          "output_type": "stream",
          "text": [
            "12000 Number of Comments has 18322 words\n"
          ],
          "name": "stdout"
        }
      ]
    },
    {
      "cell_type": "code",
      "metadata": {
        "id": "LkP1vUTqFoDs"
      },
      "source": [
        "df.to_excel(r'C:\\Users\\Shatakshi\\Desktop\\Hate Detection\\cleaned_datasets\\cleaned_agr_en.xlsx')"
      ],
      "execution_count": null,
      "outputs": []
    },
    {
      "cell_type": "code",
      "metadata": {
        "colab": {
          "base_uri": "https://localhost:8080/",
          "height": 374
        },
        "id": "Wqazm29CdVeY",
        "outputId": "58d9cc5d-76fa-4a91-8f62-033a9ff7e67c"
      },
      "source": [
        "countdf = df['level'].value_counts()\n",
        "countdf.reset_index().head()\n",
        "countdf.plot(kind='pie', colormap='Spectral_r', figsize=(6, 6))"
      ],
      "execution_count": null,
      "outputs": [
        {
          "output_type": "execute_result",
          "data": {
            "text/plain": [
              "<matplotlib.axes._subplots.AxesSubplot at 0x7fe6f7345a50>"
            ]
          },
          "metadata": {
            "tags": []
          },
          "execution_count": 28
        },
        {
          "output_type": "display_data",
          "data": {
            "image/png": "[encoded data removed]",
            "text/plain": [
              "<Figure size 432x432 with 1 Axes>"
            ]
          },
          "metadata": {
            "tags": []
          }
        }
      ]
    },
    {
      "cell_type": "code",
      "metadata": {
        "colab": {
          "base_uri": "https://localhost:8080/",
          "height": 450
        },
        "id": "lAsGtrh8dnz1",
        "outputId": "cfdbfacc-0c34-4427-d8a4-68540994202f"
      },
      "source": [
        "\n",
        "countdf.plot(kind='bar', colormap='Spectral_r', figsize=(100, 30))"
      ],
      "execution_count": null,
      "outputs": [
        {
          "output_type": "execute_result",
          "data": {
            "text/plain": [
              "<matplotlib.axes._subplots.AxesSubplot at 0x7fe6f69b5c50>"
            ]
          },
          "metadata": {
            "tags": []
          },
          "execution_count": 33
        },
        {
          "output_type": "display_data",
          "data": {
            "image/png": "[encoded data removed]",
            "text/plain": [
              "<Figure size 7200x2160 with 1 Axes>"
            ]
          },
          "metadata": {
            "tags": [],
            "needs_background": "light"
          }
        }
      ]
    },
    {
      "cell_type": "code",
      "metadata": {
        "colab": {
          "base_uri": "https://localhost:8080/",
          "height": 567
        },
        "id": "CWvfaeH9d_i1",
        "outputId": "6748c84b-8ca9-47be-88f6-e1af6584d3d0"
      },
      "source": [
        "labels = df['level'].value_counts().index\n",
        "val = df['level'].value_counts().values\n",
        "\n",
        "plt.figure(figsize = (8,8))\n",
        "ax = sns.barplot(val,labels, palette= 'rainbow')\n",
        "ax.set(xlabel = 'Count',ylabel = 'level')"
      ],
      "execution_count": null,
      "outputs": [
        {
          "output_type": "stream",
          "text": [
            "/usr/local/lib/python3.7/dist-packages/seaborn/_decorators.py:43: FutureWarning: Pass the following variables as keyword args: x, y. From version 0.12, the only valid positional argument will be `data`, and passing other arguments without an explicit keyword will result in an error or misinterpretation.\n",
            "  FutureWarning\n"
          ],
          "name": "stderr"
        },
        {
          "output_type": "execute_result",
          "data": {
            "text/plain": [
              "[Text(0, 0.5, 'level'), Text(0.5, 0, 'Count')]"
            ]
          },
          "metadata": {
            "tags": []
          },
          "execution_count": 35
        },
        {
          "output_type": "display_data",
          "data": {
            "image/png": "[encoded data removed]",
            "text/plain": [
              "<Figure size 576x576 with 1 Axes>"
            ]
          },
          "metadata": {
            "tags": [],
            "needs_background": "light"
          }
        }
      ]
    },
    {
      "cell_type": "code",
      "metadata": {
        "colab": {
          "base_uri": "https://localhost:8080/",
          "height": 405
        },
        "id": "iTp6RIwUeV54",
        "outputId": "27272430-60c8-4b3f-c6c4-4e83bf332143"
      },
      "source": [
        "df['Comments'] = df['Comments'].str.lower()\n",
        "df.head()"
      ],
      "execution_count": null,
      "outputs": [
        {
          "output_type": "execute_result",
          "data": {
            "text/html": [
              "<div>\n",
              "<style scoped>\n",
              "    .dataframe tbody tr th:only-of-type {\n",
              "        vertical-align: middle;\n",
              "    }\n",
              "\n",
              "    .dataframe tbody tr th {\n",
              "        vertical-align: top;\n",
              "    }\n",
              "\n",
              "    .dataframe thead th {\n",
              "        text-align: right;\n",
              "    }\n",
              "</style>\n",
              "<table border=\"1\" class=\"dataframe\">\n",
              "  <thead>\n",
              "    <tr style=\"text-align: right;\">\n",
              "      <th></th>\n",
              "      <th>Comments</th>\n",
              "      <th>level</th>\n",
              "      <th>Comments_punct</th>\n",
              "      <th>Comments_tokenized</th>\n",
              "      <th>Comments_nonstop</th>\n",
              "      <th>Comments_stemmed</th>\n",
              "      <th>cleaned</th>\n",
              "    </tr>\n",
              "  </thead>\n",
              "  <tbody>\n",
              "    <tr>\n",
              "      <th>0</th>\n",
              "      <td>well said sonu..you have courage to stand against dadagiri of muslims</td>\n",
              "      <td>2</td>\n",
              "      <td>Well said sonuyou have courage to stand against dadagiri of Muslims</td>\n",
              "      <td>[well, said, sonuyou, have, courage, to, stand, against, dadagiri, of, muslims]</td>\n",
              "      <td>[well, said, sonuyou, courage, stand, dadagiri, muslims]</td>\n",
              "      <td>[well, said, sonuy, courag, stand, dadagiri, muslim]</td>\n",
              "      <td>[well, said, sonuyou, courage, stand, dadagiri, muslim]</td>\n",
              "    </tr>\n",
              "    <tr>\n",
              "      <th>1</th>\n",
              "      <td>most of private banks atm's like hdfc, icici etc are out of cash. only public sector bank's atm ...</td>\n",
              "      <td>0</td>\n",
              "      <td>Most of Private Banks ATMs Like HDFC ICICI etc are out of cash Only Public sector banks ATM working</td>\n",
              "      <td>[most, of, private, banks, atms, like, hdfc, icici, etc, are, out, of, cash, only, public, secto...</td>\n",
              "      <td>[private, banks, atms, like, hdfc, icici, etc, cash, public, sector, banks, atm, working]</td>\n",
              "      <td>[privat, bank, atm, like, hdfc, icici, etc, cash, public, sector, bank, atm, work]</td>\n",
              "      <td>[private, bank, atm, like, hdfc, icici, etc, cash, public, sector, bank, atm, working]</td>\n",
              "    </tr>\n",
              "    <tr>\n",
              "      <th>2</th>\n",
              "      <td>now question is, pakistan will adhere to this?</td>\n",
              "      <td>2</td>\n",
              "      <td>Now question is Pakistan will adhere to this</td>\n",
              "      <td>[now, question, is, pakistan, will, adhere, to, this]</td>\n",
              "      <td>[question, pakistan, adhere]</td>\n",
              "      <td>[question, pakistan, adher]</td>\n",
              "      <td>[question, pakistan, adhere]</td>\n",
              "    </tr>\n",
              "    <tr>\n",
              "      <th>3</th>\n",
              "      <td>pakistan is comprised of fake muslims who does not know the meaning of unity and imposes their t...</td>\n",
              "      <td>2</td>\n",
              "      <td>Pakistan is comprised of fake muslims who does not know the meaning of unity and imposes their t...</td>\n",
              "      <td>[pakistan, is, comprised, of, fake, muslims, who, does, not, know, the, meaning, of, unity, and,...</td>\n",
              "      <td>[pakistan, comprised, fake, muslims, know, meaning, unity, imposes, thoughts, othersall, rascals...</td>\n",
              "      <td>[pakistan, compris, fake, muslim, know, mean, uniti, impos, thought, othersal, rascal, gather]</td>\n",
              "      <td>[pakistan, comprised, fake, muslim, know, meaning, unity, imposes, thought, othersall, rascal, g...</td>\n",
              "    </tr>\n",
              "    <tr>\n",
              "      <th>4</th>\n",
              "      <td>??we r against cow slaughter,so of course it will stop leather manufacturing if it happens.</td>\n",
              "      <td>0</td>\n",
              "      <td>we r against cow slaughterso of course it will stop leather manufacturing if it happens</td>\n",
              "      <td>[we, r, against, cow, slaughterso, of, course, it, will, stop, leather, manufacturing, if, it, h...</td>\n",
              "      <td>[r, cow, slaughterso, course, stop, leather, manufacturing, happens]</td>\n",
              "      <td>[r, cow, slaughterso, cours, stop, leather, manufactur, happen]</td>\n",
              "      <td>[r, cow, slaughterso, course, stop, leather, manufacturing, happens]</td>\n",
              "    </tr>\n",
              "  </tbody>\n",
              "</table>\n",
              "</div>"
            ],
            "text/plain": [
              "                                                                                              Comments  ...                                                                                              cleaned\n",
              "0                                well said sonu..you have courage to stand against dadagiri of muslims  ...                                              [well, said, sonuyou, courage, stand, dadagiri, muslim]\n",
              "1  most of private banks atm's like hdfc, icici etc are out of cash. only public sector bank's atm ...  ...               [private, bank, atm, like, hdfc, icici, etc, cash, public, sector, bank, atm, working]\n",
              "2                                                       now question is, pakistan will adhere to this?  ...                                                                         [question, pakistan, adhere]\n",
              "3  pakistan is comprised of fake muslims who does not know the meaning of unity and imposes their t...  ...  [pakistan, comprised, fake, muslim, know, meaning, unity, imposes, thought, othersall, rascal, g...\n",
              "4          ??we r against cow slaughter,so of course it will stop leather manufacturing if it happens.  ...                                 [r, cow, slaughterso, course, stop, leather, manufacturing, happens]\n",
              "\n",
              "[5 rows x 7 columns]"
            ]
          },
          "metadata": {
            "tags": []
          },
          "execution_count": 36
        }
      ]
    },
    {
      "cell_type": "markdown",
      "metadata": {
        "id": "h1xz00fGG9JY"
      },
      "source": [
        "**THIS PART IS FOR LOW RESOURCE MODEL TRAINING**"
      ]
    },
    {
      "cell_type": "code",
      "metadata": {
        "id": "Rt_bJiuqxwWi",
        "colab": {
          "base_uri": "https://localhost:8080/"
        },
        "outputId": "75a8d1b6-58bb-405e-e09e-5e1b3cd9d691"
      },
      "source": [
        "import re\n",
        "import nltk\n",
        "from sklearn.model_selection import train_test_split\n",
        "import pandas as pd\n",
        "import numpy as np\n",
        "import os\n",
        "from sklearn.preprocessing import LabelEncoder\n",
        "from sklearn.model_selection import train_test_split\n",
        "from sklearn.ensemble import RandomForestClassifier,BaggingClassifier\n",
        "from sklearn.svm import SVC\n",
        "from sklearn.neighbors import KNeighborsClassifier\n",
        "from sklearn.naive_bayes import MultinomialNB\n",
        "from sklearn.linear_model import Lasso\n",
        "from sklearn.model_selection import GridSearchCV\n",
        "from sklearn.feature_extraction.text import TfidfVectorizer\n",
        "from sklearn.metrics import classification_report,confusion_matrix\n",
        "import matplotlib.pyplot as plt\n",
        "from sklearn.metrics import roc_auc_score,roc_curve\n",
        "import seaborn as sn\n",
        "import numpy as np\n",
        "from sklearn.datasets import fetch_20newsgroups\n",
        "from sklearn.feature_extraction.text import CountVectorizer\n",
        "from sklearn.feature_extraction.text import TfidfTransformer\n",
        "from sklearn.neighbors import KNeighborsClassifier\n",
        "from sklearn.pipeline import Pipeline\n",
        "from nltk.tokenize import word_tokenize\n",
        "from nltk.stem import PorterStemmer\n",
        "nltk.download('punkt')\n",
        "stemmer=PorterStemmer()\n",
        "\n",
        "nltk.download('stopwords')\n",
        "from nltk.corpus import stopwords\n",
        "from sklearn.svm import LinearSVC\n",
        "from sklearn.metrics import confusion_matrix\n",
        "from sklearn.feature_extraction.text import CountVectorizer\n",
        "from sklearn.feature_extraction.text import TfidfTransformer\n",
        "from sklearn.feature_extraction.text import TfidfVectorizer\n",
        "from sklearn import metrics\n",
        "from sklearn.datasets import load_files\n",
        "from sklearn.model_selection import train_test_split"
      ],
      "execution_count": null,
      "outputs": [
        {
          "output_type": "stream",
          "text": [
            "[nltk_data] Downloading package punkt to /root/nltk_data...\n",
            "[nltk_data]   Unzipping tokenizers/punkt.zip.\n",
            "[nltk_data] Downloading package stopwords to /root/nltk_data...\n",
            "[nltk_data]   Unzipping corpora/stopwords.zip.\n"
          ],
          "name": "stdout"
        }
      ]
    },
    {
      "cell_type": "code",
      "metadata": {
        "colab": {
          "base_uri": "https://localhost:8080/"
        },
        "id": "bQUrzUhRZ_4g",
        "outputId": "c2a26b61-7376-4681-9121-30bca1da05d6"
      },
      "source": [
        "level = df['level'].unique()\n",
        "print(level)"
      ],
      "execution_count": null,
      "outputs": [
        {
          "output_type": "stream",
          "text": [
            "[2 0 1]\n"
          ],
          "name": "stdout"
        }
      ]
    },
    {
      "cell_type": "code",
      "metadata": {
        "colab": {
          "base_uri": "https://localhost:8080/",
          "height": 195
        },
        "id": "9dfqN5Wradn0",
        "outputId": "728f1e1a-f78e-4a10-eb3c-8a251e47fd23"
      },
      "source": [
        "vectorizer = TfidfVectorizer(min_df= 3, stop_words=\"english\", sublinear_tf=True, norm='l2', ngram_range=(1, 2))\n",
        "final_features = vectorizer.fit_transform(df['cleaned'].values.astype('U'))\n",
        "final_features.shape"
      ],
      "execution_count": null,
      "outputs": [
        {
          "output_type": "error",
          "ename": "ValueError",
          "evalue": "ignored",
          "traceback": [
            "\u001b[0;31m---------------------------------------------------------------------------\u001b[0m",
            "\u001b[0;31mValueError\u001b[0m                                Traceback (most recent call last)",
            "\u001b[0;32m<ipython-input-26-2971b261b028>\u001b[0m in \u001b[0;36m<module>\u001b[0;34m()\u001b[0m\n\u001b[1;32m      1\u001b[0m \u001b[0mvectorizer\u001b[0m \u001b[0;34m=\u001b[0m \u001b[0mTfidfVectorizer\u001b[0m\u001b[0;34m(\u001b[0m\u001b[0mmin_df\u001b[0m\u001b[0;34m=\u001b[0m \u001b[0;36m3\u001b[0m\u001b[0;34m,\u001b[0m \u001b[0mstop_words\u001b[0m\u001b[0;34m=\u001b[0m\u001b[0;34m\"english\"\u001b[0m\u001b[0;34m,\u001b[0m \u001b[0msublinear_tf\u001b[0m\u001b[0;34m=\u001b[0m\u001b[0;32mTrue\u001b[0m\u001b[0;34m,\u001b[0m \u001b[0mnorm\u001b[0m\u001b[0;34m=\u001b[0m\u001b[0;34m'l2'\u001b[0m\u001b[0;34m,\u001b[0m \u001b[0mngram_range\u001b[0m\u001b[0;34m=\u001b[0m\u001b[0;34m(\u001b[0m\u001b[0;36m1\u001b[0m\u001b[0;34m,\u001b[0m \u001b[0;36m2\u001b[0m\u001b[0;34m)\u001b[0m\u001b[0;34m)\u001b[0m\u001b[0;34m\u001b[0m\u001b[0;34m\u001b[0m\u001b[0m\n\u001b[0;32m----> 2\u001b[0;31m \u001b[0mfinal_features\u001b[0m \u001b[0;34m=\u001b[0m \u001b[0mvectorizer\u001b[0m\u001b[0;34m.\u001b[0m\u001b[0mfit_transform\u001b[0m\u001b[0;34m(\u001b[0m\u001b[0mdf\u001b[0m\u001b[0;34m[\u001b[0m\u001b[0;34m'cleaned'\u001b[0m\u001b[0;34m]\u001b[0m\u001b[0;34m.\u001b[0m\u001b[0mvalues\u001b[0m\u001b[0;34m.\u001b[0m\u001b[0mastype\u001b[0m\u001b[0;34m(\u001b[0m\u001b[0;34m'U'\u001b[0m\u001b[0;34m)\u001b[0m\u001b[0;34m)\u001b[0m\u001b[0;34m\u001b[0m\u001b[0;34m\u001b[0m\u001b[0m\n\u001b[0m\u001b[1;32m      3\u001b[0m \u001b[0mfinal_features\u001b[0m\u001b[0;34m.\u001b[0m\u001b[0mshape\u001b[0m\u001b[0;34m\u001b[0m\u001b[0;34m\u001b[0m\u001b[0m\n",
            "\u001b[0;31mValueError\u001b[0m: setting an array element with a sequence"
          ]
        }
      ]
    },
    {
      "cell_type": "code",
      "metadata": {
        "id": "gpKnUOoFbG6c"
      },
      "source": [
        ""
      ],
      "execution_count": null,
      "outputs": []
    }
  ]
}