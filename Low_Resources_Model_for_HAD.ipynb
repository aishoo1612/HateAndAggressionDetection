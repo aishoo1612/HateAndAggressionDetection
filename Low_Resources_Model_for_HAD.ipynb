{
  "nbformat": 4,
  "nbformat_minor": 0,
  "metadata": {
    "colab": {
      "name": "Low Resources Model for HAD",
      "provenance": []
    },
    "kernelspec": {
      "name": "python3",
      "display_name": "Python 3"
    },
    "language_info": {
      "name": "python"
    },
    "accelerator": "GPU"
  },
  "cells": [
    {
      "cell_type": "code",
      "metadata": {
        "colab": {
          "base_uri": "https://localhost:8080/"
        },
        "id": "iGCz8Syntq3b",
        "outputId": "e4c3a652-62d7-457e-c79d-668435933b65"
      },
      "source": [
        "import re\n",
        "import nltk\n",
        "from sklearn.model_selection import train_test_split\n",
        "import pandas as pd\n",
        "import numpy as np\n",
        "import os\n",
        "from sklearn.preprocessing import LabelEncoder\n",
        "from sklearn.model_selection import train_test_split\n",
        "from sklearn.ensemble import RandomForestClassifier,BaggingClassifier\n",
        "from sklearn.svm import SVC\n",
        "from sklearn.neighbors import KNeighborsClassifier\n",
        "from sklearn.naive_bayes import MultinomialNB\n",
        "from sklearn.linear_model import Lasso\n",
        "from sklearn.model_selection import GridSearchCV\n",
        "from sklearn.feature_extraction.text import TfidfVectorizer\n",
        "from sklearn.metrics import classification_report,confusion_matrix\n",
        "import matplotlib.pyplot as plt\n",
        "from sklearn.metrics import roc_auc_score,roc_curve\n",
        "import seaborn as sn\n",
        "import numpy as np\n",
        "from sklearn.datasets import fetch_20newsgroups\n",
        "from sklearn.feature_extraction.text import CountVectorizer\n",
        "from sklearn.feature_extraction.text import TfidfTransformer\n",
        "from sklearn.neighbors import KNeighborsClassifier\n",
        "from sklearn.pipeline import Pipeline\n",
        "from nltk.tokenize import word_tokenize\n",
        "from nltk.stem import PorterStemmer\n",
        "nltk.download('punkt')\n",
        "stemmer=PorterStemmer()\n",
        "\n",
        "nltk.download('stopwords')\n",
        "from nltk.corpus import stopwords\n",
        "from sklearn.svm import LinearSVC\n",
        "from sklearn.metrics import confusion_matrix\n",
        "from sklearn.feature_extraction.text import CountVectorizer\n",
        "from sklearn.feature_extraction.text import TfidfTransformer\n",
        "from sklearn.feature_extraction.text import TfidfVectorizer\n",
        "from sklearn import metrics\n",
        "from sklearn.datasets import load_files\n",
        "from sklearn.model_selection import train_test_split"
      ],
      "execution_count": null,
      "outputs": [
        {
          "output_type": "stream",
          "text": [
            "[nltk_data] Downloading package punkt to /root/nltk_data...\n",
            "[nltk_data]   Unzipping tokenizers/punkt.zip.\n",
            "[nltk_data] Downloading package stopwords to /root/nltk_data...\n",
            "[nltk_data]   Unzipping corpora/stopwords.zip.\n"
          ],
          "name": "stdout"
        }
      ]
    },
    {
      "cell_type": "code",
      "metadata": {
        "id": "8J4hc_V9tu6t",
        "colab": {
          "base_uri": "https://localhost:8080/"
        },
        "outputId": "4abc454f-00cb-4327-bea1-675bb2b85364"
      },
      "source": [
        "%tensorflow_version 2.x\n",
        "import tensorflow as tf\n",
        "device_name = tf.test.gpu_device_name()\n",
        "if device_name != '/device:GPU:0':\n",
        "  raise SystemError('GPU device not found')\n",
        "print('Found GPU at: {}'.format(device_name))"
      ],
      "execution_count": null,
      "outputs": [
        {
          "output_type": "stream",
          "text": [
            "Found GPU at: /device:GPU:0\n"
          ],
          "name": "stdout"
        }
      ]
    },
    {
      "cell_type": "code",
      "metadata": {
        "colab": {
          "base_uri": "https://localhost:8080/"
        },
        "id": "oZ03flSmtzqc",
        "outputId": "0ca79c08-2190-447e-9a6d-c811fac352e9"
      },
      "source": [
        "\n",
        "from google.colab import drive\n",
        "drive.mount('/content/drive')"
      ],
      "execution_count": null,
      "outputs": [
        {
          "output_type": "stream",
          "text": [
            "Mounted at /content/drive\n"
          ],
          "name": "stdout"
        }
      ]
    },
    {
      "cell_type": "code",
      "metadata": {
        "colab": {
          "base_uri": "https://localhost:8080/",
          "height": 203
        },
        "id": "E1-V7Qm5t4_V",
        "outputId": "fd6f7800-1996-45fa-8cc0-9f7a520cdd72"
      },
      "source": [
        "\n",
        "df = pd.read_excel(r\"/content/drive/MyDrive/cleaned_agr.xlsx\")\n",
        "\n",
        "df.head()"
      ],
      "execution_count": null,
      "outputs": [
        {
          "output_type": "execute_result",
          "data": {
            "text/html": [
              "<div>\n",
              "<style scoped>\n",
              "    .dataframe tbody tr th:only-of-type {\n",
              "        vertical-align: middle;\n",
              "    }\n",
              "\n",
              "    .dataframe tbody tr th {\n",
              "        vertical-align: top;\n",
              "    }\n",
              "\n",
              "    .dataframe thead th {\n",
              "        text-align: right;\n",
              "    }\n",
              "</style>\n",
              "<table border=\"1\" class=\"dataframe\">\n",
              "  <thead>\n",
              "    <tr style=\"text-align: right;\">\n",
              "      <th></th>\n",
              "      <th>Unnamed: 0</th>\n",
              "      <th>Comments</th>\n",
              "      <th>level</th>\n",
              "    </tr>\n",
              "  </thead>\n",
              "  <tbody>\n",
              "    <tr>\n",
              "      <th>0</th>\n",
              "      <td>0</td>\n",
              "      <td>courage said sonuyou dadagiri well muslims stand</td>\n",
              "      <td>oag</td>\n",
              "    </tr>\n",
              "    <tr>\n",
              "      <th>1</th>\n",
              "      <td>1</td>\n",
              "      <td>private sector banks like public icici banks w...</td>\n",
              "      <td>nag</td>\n",
              "    </tr>\n",
              "    <tr>\n",
              "      <th>2</th>\n",
              "      <td>2</td>\n",
              "      <td>adhere this pakistan question</td>\n",
              "      <td>oag</td>\n",
              "    </tr>\n",
              "    <tr>\n",
              "      <th>3</th>\n",
              "      <td>3</td>\n",
              "      <td>fake comprised gathered rascals muslims know i...</td>\n",
              "      <td>oag</td>\n",
              "    </tr>\n",
              "    <tr>\n",
              "      <th>4</th>\n",
              "      <td>4</td>\n",
              "      <td>happens course slaughterso stop leather manufa...</td>\n",
              "      <td>nag</td>\n",
              "    </tr>\n",
              "  </tbody>\n",
              "</table>\n",
              "</div>"
            ],
            "text/plain": [
              "   Unnamed: 0                                           Comments level\n",
              "0           0   courage said sonuyou dadagiri well muslims stand   oag\n",
              "1           1  private sector banks like public icici banks w...   nag\n",
              "2           2                      adhere this pakistan question   oag\n",
              "3           3  fake comprised gathered rascals muslims know i...   oag\n",
              "4           4  happens course slaughterso stop leather manufa...   nag"
            ]
          },
          "metadata": {
            "tags": []
          },
          "execution_count": 4
        }
      ]
    },
    {
      "cell_type": "code",
      "metadata": {
        "id": "M29m0ArRuGwd",
        "colab": {
          "base_uri": "https://localhost:8080/"
        },
        "outputId": "828b53d2-7ad9-4547-f12f-89dd6dbbc8da"
      },
      "source": [
        "nltk.download('wordnet')"
      ],
      "execution_count": null,
      "outputs": [
        {
          "output_type": "stream",
          "text": [
            "[nltk_data] Downloading package wordnet to /root/nltk_data...\n",
            "[nltk_data]   Unzipping corpora/wordnet.zip.\n"
          ],
          "name": "stdout"
        },
        {
          "output_type": "execute_result",
          "data": {
            "text/plain": [
              "True"
            ]
          },
          "metadata": {
            "tags": []
          },
          "execution_count": 5
        }
      ]
    },
    {
      "cell_type": "code",
      "metadata": {
        "colab": {
          "base_uri": "https://localhost:8080/"
        },
        "id": "CH7Swbp2u1Iw",
        "outputId": "2ec1a472-b6d7-474b-d470-237a638e27e8"
      },
      "source": [
        "categories = df['level'].unique()\n",
        "print(categories)"
      ],
      "execution_count": null,
      "outputs": [
        {
          "output_type": "stream",
          "text": [
            "['oag' 'nag' 'cag']\n"
          ],
          "name": "stdout"
        }
      ]
    },
    {
      "cell_type": "code",
      "metadata": {
        "colab": {
          "base_uri": "https://localhost:8080/"
        },
        "id": "yqk9jYc8u33I",
        "outputId": "f038ac87-7114-4ed0-b1fa-e7c566c314fa"
      },
      "source": [
        "vectorizer = TfidfVectorizer(min_df= 3, stop_words=\"english\", sublinear_tf=True, norm='l2', ngram_range=(1, 2))\n",
        "final_features = vectorizer.fit_transform(df['Comments'].values.astype('U'))\n",
        "final_features.shape"
      ],
      "execution_count": null,
      "outputs": [
        {
          "output_type": "execute_result",
          "data": {
            "text/plain": [
              "(12000, 8497)"
            ]
          },
          "metadata": {
            "tags": []
          },
          "execution_count": 7
        }
      ]
    },
    {
      "cell_type": "markdown",
      "metadata": {
        "id": "pLhzqNXXvpSA"
      },
      "source": [
        "*Random Forests*"
      ]
    },
    {
      "cell_type": "code",
      "metadata": {
        "id": "ZKuwVjIku_QP"
      },
      "source": [
        "from sklearn.feature_selection import SelectKBest, chi2, f_classif\n",
        "import pickle"
      ],
      "execution_count": null,
      "outputs": []
    },
    {
      "cell_type": "code",
      "metadata": {
        "id": "T0RY49fWvB3H"
      },
      "source": [
        "#first we split our dataset into testing and training set:\n",
        "# this block is to split the dataset into training and testing set \n",
        "X = df['Comments']\n",
        "Y = df['level']\n",
        "X_train, X_test, y_train, y_test = train_test_split(X, Y, test_size=0.25)\n",
        "# instead of doing these steps one at a time, we can use a pipeline to complete them all at once\n",
        "pipeline = Pipeline([('vect', vectorizer),\n",
        "                     ('chi',  SelectKBest(chi2, k=1700)),\n",
        "                     ('clf', RandomForestClassifier())])\n",
        "# fitting our model and save it in a pickle for later use\n",
        "model = pipeline.fit(X_train.values.astype('U'), y_train.values.astype('U'))\n",
        "with open('RandomForest.pickle', 'wb') as f:\n",
        "    pickle.dump(model, f)\n",
        "ytest = np.array(y_test)\n"
      ],
      "execution_count": null,
      "outputs": []
    },
    {
      "cell_type": "code",
      "metadata": {
        "colab": {
          "base_uri": "https://localhost:8080/"
        },
        "id": "UpEvsPlNvDiH",
        "outputId": "26375584-7355-4325-cf24-36eb2c9ec971"
      },
      "source": [
        "# confusion matrix and classification report(precision, recall, F1-score)\n",
        "print(classification_report(ytest, model.predict(X_test.values.astype('U'))))\n",
        "print(confusion_matrix(ytest, model.predict(X_test.values.astype('U'))))"
      ],
      "execution_count": null,
      "outputs": [
        {
          "output_type": "stream",
          "text": [
            "              precision    recall  f1-score   support\n",
            "\n",
            "         cag       0.44      0.42      0.43      1077\n",
            "         nag       0.57      0.69      0.62      1270\n",
            "         oag       0.49      0.32      0.39       653\n",
            "\n",
            "    accuracy                           0.52      3000\n",
            "   macro avg       0.50      0.48      0.48      3000\n",
            "weighted avg       0.51      0.52      0.50      3000\n",
            "\n",
            "[[457 479 141]\n",
            " [311 876  83]\n",
            " [260 181 212]]\n"
          ],
          "name": "stdout"
        }
      ]
    },
    {
      "cell_type": "markdown",
      "metadata": {
        "id": "FmIwxv0Fvsog"
      },
      "source": [
        "*KNN*"
      ]
    },
    {
      "cell_type": "code",
      "metadata": {
        "id": "pxBw4x_MvsOi"
      },
      "source": [
        "from sklearn.neighbors import KNeighborsClassifier"
      ],
      "execution_count": null,
      "outputs": []
    },
    {
      "cell_type": "code",
      "metadata": {
        "id": "ossk_OZkvJ4Y"
      },
      "source": [
        "X = df['Comments']\n",
        "Y = df['level']\n",
        "X_train, X_test, y_train, y_test = train_test_split(X, Y, test_size=0.25)\n",
        "# instead of doing these steps one at a time, we can use a pipeline to complete them all at once\n",
        "pipeline = Pipeline([('vect', vectorizer),\n",
        "                     ('chi',  SelectKBest(chi2, k=1700)),\n",
        "                     ('clf', KNeighborsClassifier())])\n",
        "# fitting our model and save it in a pickle for later use\n",
        "model = pipeline.fit(X_train.values.astype('U'), y_train.values.astype('U'))\n",
        "with open('KNN.pickle', 'wb') as f:\n",
        "    pickle.dump(model, f)\n",
        "ytest = np.array(y_test)"
      ],
      "execution_count": null,
      "outputs": []
    },
    {
      "cell_type": "code",
      "metadata": {
        "colab": {
          "base_uri": "https://localhost:8080/"
        },
        "id": "137wUq3rv3WR",
        "outputId": "f0bab8db-2f22-4d8a-9f62-a47516d21957"
      },
      "source": [
        "# confusion matrix and classification report(precision, recall, F1-score)\n",
        "print(classification_report(ytest, model.predict(X_test.values.astype('U'))))\n",
        "print(confusion_matrix(ytest, model.predict(X_test.values.astype('U'))))"
      ],
      "execution_count": null,
      "outputs": [
        {
          "output_type": "stream",
          "text": [
            "              precision    recall  f1-score   support\n",
            "\n",
            "         cag       0.43      0.43      0.43      1113\n",
            "         nag       0.51      0.72      0.59      1240\n",
            "         oag       0.61      0.13      0.22       647\n",
            "\n",
            "    accuracy                           0.48      3000\n",
            "   macro avg       0.52      0.43      0.41      3000\n",
            "weighted avg       0.50      0.48      0.45      3000\n",
            "\n",
            "[[482 597  34]\n",
            " [331 888  21]\n",
            " [296 266  85]]\n"
          ],
          "name": "stdout"
        }
      ]
    },
    {
      "cell_type": "markdown",
      "metadata": {
        "id": "TV1S-OIHwNfG"
      },
      "source": [
        "*svm*"
      ]
    },
    {
      "cell_type": "code",
      "metadata": {
        "id": "OY9Nglyvv5ZE"
      },
      "source": [
        "from sklearn import svm\n",
        "from sklearn.preprocessing import StandardScaler"
      ],
      "execution_count": null,
      "outputs": []
    },
    {
      "cell_type": "code",
      "metadata": {
        "id": "Sbl0D-7lwSb_"
      },
      "source": [
        "X = df['Comments']\n",
        "Y = df['level']\n",
        "X_train, X_test, y_train, y_test = train_test_split(X, Y, test_size=0.25)\n",
        "# instead of doing these steps one at a time, we can use a pipeline to complete them all at once\n",
        "pipeline = Pipeline([('vect', vectorizer),\n",
        "                     ('chi',  SelectKBest(chi2, k=1700)),\n",
        "                     ('clf', StandardScaler(with_mean=False)),\n",
        "                     ('svc', SVC(gamma='auto'))])\n",
        "# fitting our model and save it in a pickle for later use\n",
        "model = pipeline.fit(X_train.values.astype('U'), y_train.values.astype('U'))\n",
        "with open('SVM.pickle', 'wb') as f:\n",
        "    pickle.dump(model, f)\n",
        "ytest = np.array(y_test)"
      ],
      "execution_count": null,
      "outputs": []
    },
    {
      "cell_type": "code",
      "metadata": {
        "colab": {
          "base_uri": "https://localhost:8080/"
        },
        "id": "EGaO3pjSwWyG",
        "outputId": "b8d2c5d5-e3a3-4d1b-85a8-717289a29a76"
      },
      "source": [
        "# confusion matrix and classification report(precision, recall, F1-score)\n",
        "print(classification_report(ytest, model.predict(X_test.values.astype('U'))))\n",
        "print(confusion_matrix(ytest, model.predict(X_test.values.astype('U'))))"
      ],
      "execution_count": null,
      "outputs": [
        {
          "output_type": "stream",
          "text": [
            "              precision    recall  f1-score   support\n",
            "\n",
            "         cag       0.47      0.41      0.43      1064\n",
            "         nag       0.59      0.73      0.65      1276\n",
            "         oag       0.47      0.35      0.40       660\n",
            "\n",
            "    accuracy                           0.53      3000\n",
            "   macro avg       0.51      0.49      0.49      3000\n",
            "weighted avg       0.52      0.53      0.52      3000\n",
            "\n",
            "[[433 468 163]\n",
            " [250 930  96]\n",
            " [248 183 229]]\n"
          ],
          "name": "stdout"
        }
      ]
    },
    {
      "cell_type": "markdown",
      "metadata": {
        "id": "j98BEAS-wh1w"
      },
      "source": [
        "**multinomial naive bayes**"
      ]
    },
    {
      "cell_type": "code",
      "metadata": {
        "id": "AwrENtIUwZU8"
      },
      "source": [
        "X = df['Comments']\n",
        "Y = df['level']\n",
        "X_train, X_test, y_train, y_test = train_test_split(X, Y, test_size=0.25)\n",
        "# instead of doing these steps one at a time, we can use a pipeline to complete them all at once\n",
        "pipeline = Pipeline([('vect', vectorizer),\n",
        "                     ('chi',  SelectKBest(chi2, k=1400)),\n",
        "                     ('clf', MultinomialNB())])\n",
        "# fitting our model and save it in a pickle for later use\n",
        "model = pipeline.fit(X_train.values.astype('U'), y_train.values.astype('U'))\n",
        "with open('mnb.pickle', 'wb') as f:\n",
        "    pickle.dump(model, f)\n",
        "ytest = np.array(y_test)"
      ],
      "execution_count": null,
      "outputs": []
    },
    {
      "cell_type": "code",
      "metadata": {
        "colab": {
          "base_uri": "https://localhost:8080/"
        },
        "id": "GWHhp8lvwoot",
        "outputId": "8dbaca3b-9d7e-428f-e531-f36b0c132ba8"
      },
      "source": [
        "# confusion matrix and classification report(precision, recall, F1-score)\n",
        "print(classification_report(ytest, model.predict(X_test.values.astype('U'))))\n",
        "conf_matrix = confusion_matrix(ytest, model.predict(X_test.values.astype('U')))\n",
        "print(confusion_matrix(ytest, model.predict(X_test.values.astype('U'))))"
      ],
      "execution_count": null,
      "outputs": [
        {
          "output_type": "stream",
          "text": [
            "              precision    recall  f1-score   support\n",
            "\n",
            "         cag       0.45      0.49      0.47      1045\n",
            "         nag       0.58      0.78      0.66      1248\n",
            "         oag       0.67      0.18      0.29       707\n",
            "\n",
            "    accuracy                           0.54      3000\n",
            "   macro avg       0.57      0.48      0.47      3000\n",
            "weighted avg       0.56      0.54      0.51      3000\n",
            "\n",
            "[[509 494  42]\n",
            " [252 974  22]\n",
            " [358 220 129]]\n"
          ],
          "name": "stdout"
        }
      ]
    },
    {
      "cell_type": "code",
      "metadata": {
        "id": "OD3PwARuwsQt"
      },
      "source": [
        "from sklearn.preprocessing import StandardScaler\n",
        "from sklearn.ensemble import RandomForestClassifier\n",
        "from sklearn.pipeline import make_pipeline"
      ],
      "execution_count": null,
      "outputs": []
    },
    {
      "cell_type": "code",
      "metadata": {
        "id": "5Gn6p_gqxWWo"
      },
      "source": [
        ""
      ],
      "execution_count": null,
      "outputs": []
    },
    {
      "cell_type": "markdown",
      "metadata": {
        "id": "Y7uHO1vuNDNE"
      },
      "source": [
        "**ADA BOOST**"
      ]
    },
    {
      "cell_type": "code",
      "metadata": {
        "id": "FU0utISOxySH"
      },
      "source": [
        "import nltk\n",
        "from nltk.corpus import stopwords\n",
        "import re\n",
        "from nltk.stem import WordNetLemmatizer\n",
        "from sklearn.feature_extraction.text import TfidfVectorizer\n",
        "from sklearn.metrics import accuracy_score,confusion_matrix\n",
        "from sklearn.ensemble import AdaBoostClassifier\n",
        "from sklearn.tree import DecisionTreeClassifier\n",
        "from sklearn.model_selection import train_test_split\n",
        "import pickle\n",
        "import seaborn as sns\n",
        "import time"
      ],
      "execution_count": null,
      "outputs": []
    },
    {
      "cell_type": "code",
      "metadata": {
        "id": "tIqtpvvIQR4J"
      },
      "source": [
        "data = df.copy()"
      ],
      "execution_count": null,
      "outputs": []
    },
    {
      "cell_type": "code",
      "metadata": {
        "id": "u5cn2JjHQZTR",
        "colab": {
          "base_uri": "https://localhost:8080/"
        },
        "outputId": "59fdf925-b9c6-4ee5-ec82-d30164b15960"
      },
      "source": [
        "data[\"len\"] = [len(text) for text in data[\"Comments\"].values]\n",
        "\n",
        "data.groupby(\"level\")[\"len\"].mean()"
      ],
      "execution_count": null,
      "outputs": [
        {
          "output_type": "execute_result",
          "data": {
            "text/plain": [
              "level\n",
              "cag    83.319734\n",
              "nag    74.453687\n",
              "oag    96.956280\n",
              "Name: len, dtype: float64"
            ]
          },
          "metadata": {
            "tags": []
          },
          "execution_count": 27
        }
      ]
    },
    {
      "cell_type": "code",
      "metadata": {
        "id": "kmJfnigDOE54",
        "colab": {
          "base_uri": "https://localhost:8080/"
        },
        "outputId": "eccee87e-a0fc-41d4-9a35-84e0073c802e"
      },
      "source": [
        "data[\"level\"].value_counts()"
      ],
      "execution_count": null,
      "outputs": [
        {
          "output_type": "execute_result",
          "data": {
            "text/plain": [
              "nag    4977\n",
              "cag    4216\n",
              "oag    2699\n",
              "Name: level, dtype: int64"
            ]
          },
          "metadata": {
            "tags": []
          },
          "execution_count": 28
        }
      ]
    },
    {
      "cell_type": "code",
      "metadata": {
        "id": "S4ZZg6KwOKVz"
      },
      "source": [
        "y = []\n",
        "for level in data[\"level\"]:\n",
        "    \n",
        "    if level==\"nag\":\n",
        "        y.append(0)\n",
        "        \n",
        "    elif level==\"oag\":\n",
        "        y.append(2)\n",
        "        \n",
        "    elif level==\"cag\":\n",
        "        y.append(1)\n",
        "\n",
        "y = np.asarray(y)"
      ],
      "execution_count": null,
      "outputs": []
    },
    {
      "cell_type": "code",
      "metadata": {
        "id": "wS_fkHpyORYL",
        "colab": {
          "base_uri": "https://localhost:8080/",
          "height": 239
        },
        "outputId": "1d16ddb3-14b5-408e-c3a9-98b1742a9404"
      },
      "source": [
        "\n",
        "\n",
        "# First, we need a vectorizer object\n",
        "vectorizer = TfidfVectorizer(max_features=4000)\n",
        "# This means just consider most used 4000 words\n",
        "\n",
        "start = time.time()\n",
        "\n",
        "x = vectorizer.fit_transform(cleanedText).toarray()\n",
        "\n",
        "process_time = round(time.time()-start,2)\n",
        "\n",
        "print(\"Vectorizing cleaned text using TF-IDF approach took {} seconds\".format(process_time))\n",
        "\n",
        "x.shape"
      ],
      "execution_count": null,
      "outputs": [
        {
          "output_type": "error",
          "ename": "NameError",
          "evalue": "ignored",
          "traceback": [
            "\u001b[0;31m---------------------------------------------------------------------------\u001b[0m",
            "\u001b[0;31mNameError\u001b[0m                                 Traceback (most recent call last)",
            "\u001b[0;32m<ipython-input-30-0ea337d152c8>\u001b[0m in \u001b[0;36m<module>\u001b[0;34m()\u001b[0m\n\u001b[1;32m      5\u001b[0m \u001b[0mstart\u001b[0m \u001b[0;34m=\u001b[0m \u001b[0mtime\u001b[0m\u001b[0;34m.\u001b[0m\u001b[0mtime\u001b[0m\u001b[0;34m(\u001b[0m\u001b[0;34m)\u001b[0m\u001b[0;34m\u001b[0m\u001b[0;34m\u001b[0m\u001b[0m\n\u001b[1;32m      6\u001b[0m \u001b[0;34m\u001b[0m\u001b[0m\n\u001b[0;32m----> 7\u001b[0;31m \u001b[0mx\u001b[0m \u001b[0;34m=\u001b[0m \u001b[0mvectorizer\u001b[0m\u001b[0;34m.\u001b[0m\u001b[0mfit_transform\u001b[0m\u001b[0;34m(\u001b[0m\u001b[0mcleanedText\u001b[0m\u001b[0;34m)\u001b[0m\u001b[0;34m.\u001b[0m\u001b[0mtoarray\u001b[0m\u001b[0;34m(\u001b[0m\u001b[0;34m)\u001b[0m\u001b[0;34m\u001b[0m\u001b[0;34m\u001b[0m\u001b[0m\n\u001b[0m\u001b[1;32m      8\u001b[0m \u001b[0;34m\u001b[0m\u001b[0m\n\u001b[1;32m      9\u001b[0m \u001b[0mprocess_time\u001b[0m \u001b[0;34m=\u001b[0m \u001b[0mround\u001b[0m\u001b[0;34m(\u001b[0m\u001b[0mtime\u001b[0m\u001b[0;34m.\u001b[0m\u001b[0mtime\u001b[0m\u001b[0;34m(\u001b[0m\u001b[0;34m)\u001b[0m\u001b[0;34m-\u001b[0m\u001b[0mstart\u001b[0m\u001b[0;34m,\u001b[0m\u001b[0;36m2\u001b[0m\u001b[0;34m)\u001b[0m\u001b[0;34m\u001b[0m\u001b[0;34m\u001b[0m\u001b[0m\n",
            "\u001b[0;31mNameError\u001b[0m: name 'cleanedText' is not defined"
          ]
        }
      ]
    },
    {
      "cell_type": "code",
      "metadata": {
        "id": "6OSBQLC07NCC"
      },
      "source": [
        ""
      ],
      "execution_count": null,
      "outputs": []
    }
  ]
}